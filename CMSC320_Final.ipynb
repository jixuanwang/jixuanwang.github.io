{
 "cells": [
  {
   "cell_type": "markdown",
   "metadata": {},
   "source": [
    "# Self-Perception of Weight Among College Students"
   ]
  },
  {
   "cell_type": "markdown",
   "metadata": {},
   "source": [
    "### Alyssa Hu and Jixuan Wang"
   ]
  },
  {
   "cell_type": "markdown",
   "metadata": {},
   "source": [
    "### Introduction"
   ]
  },
  {
   "cell_type": "markdown",
   "metadata": {},
   "source": [
    "In this project, we will be looking into different factors that can affect a college student's self-perception of weight. Self-perception of weight has notably been studied by the NIH, such as with [adolescents](https://www.ncbi.nlm.nih.gov/pubmed/20142281), [young women](https://www.ncbi.nlm.nih.gov/pmc/articles/PMC3005306/ for women), and consideration of [sociodemographic factors](https://www.ncbi.nlm.nih.gov/pubmed/12726871) (this study uses logistic regression - which we will also be discussing later)! Learning about this information is useful for counseling purposes to understand patient perspectives of weight and to help with respect to weight management.\n",
    "\n",
    "[Studies](https://www.ncbi.nlm.nih.gov/pmc/articles/PMC4554432/) have indicated that \"unhealthy body image is associated with obesity and physical inactivity and plays a pivotal role in the development of eating disorders during adolescence.\" Our project focuses on predicting people's self-perception of their weight. This sort of analysis may have important impact for counseling personnel - its predictions may suggest if a college student is likely to have unhealthy body image and hopefully allow for earlier intervention. \n",
    "\n",
    "We will be working with a dataset containing survey results of college students. One particular survey question we are interested in is \"self_perception_weight\" in which the respondent ranked how they perceive themselves (1 - slim, 2 - very fit, 3 - just right, 4 - slightly overweight, 5 - overweight, 6 - I dont think of myself in these terms), and we will see if we can classify this based on the remainder of their responses."
   ]
  },
  {
   "cell_type": "markdown",
   "metadata": {},
   "source": [
    "### Tutorial Content"
   ]
  },
  {
   "cell_type": "markdown",
   "metadata": {
    "collapsed": true
   },
   "source": [
    "In this tutorial, we will get hands-on with the survey data of college students! By the end, you will have learned:\n",
    "1. How to get the food and health data from the CSV file into a dataframe format (so that Python can read it)\n",
    "2. How to process the data, removing any unnecessary information and replacing any missing or meaningless data\n",
    "3. How to proceed with exploratory data analaysis, creating plots to help with visualization and developing hypotheses \n",
    "4. How to create classifiers and test hypotheses with machine learning\n",
    "\n",
    "The data we will be working with can be found here:\n",
    "https://www.kaggle.com/borapajo/food-choices/data"
   ]
  },
  {
   "cell_type": "markdown",
   "metadata": {},
   "source": [
    "### Libraries"
   ]
  },
  {
   "cell_type": "markdown",
   "metadata": {},
   "source": [
    "For this tutorial, we suggest using [Anaconda](https://www.anaconda.com/download/) in order to work with Python and its libraries. An alternative is [Docker](https://docs.docker.com/engine/installation/).\n",
    "\n",
    "Also, the following libraries will need to be imported:\n",
    "#### pandas\n",
    "[pandas](http://pandas.pydata.org/) is a open-source Python library that helps with creating data structures (such as dataframes) to perform data analysis. \n",
    "#### numpy\n",
    "[NumPy](http://www.numpy.org/) is used for scientific computing in Python often used for creating arrays. In our case, we also want to use its nan (not a number) value. \n",
    "#### matplotlib & ggplot\n",
    "[Matplotlib](http://matplotlib.org/) and [ggplot](ggplot.yhathq.com/) are both used to generate plots of our data. Specifically, ggplot is able to create violin plots, which we use below. \n",
    "#### sklearn\n",
    "[Scikit-learn](http://scikit-learn.org/stable/index.html) provides tools for machine learning for classification.\n"
   ]
  },
  {
   "cell_type": "code",
   "execution_count": 30,
   "metadata": {
    "collapsed": true
   },
   "outputs": [],
   "source": [
    "# In order to import these libraries: \n",
    "import pandas\n",
    "import numpy\n",
    "import matplotlib.pyplot as plt\n",
    "from ggplot import *\n",
    "\n",
    "#These specific sklearn tools will be explained in detail in the ML section\n",
    "from sklearn import linear_model\n",
    "from sklearn.model_selection import train_test_split\n",
    "from sklearn import tree\n",
    "from sklearn.ensemble import RandomForestClassifier\n",
    "from sklearn import svm\n",
    "from sklearn.neighbors import KNeighborsClassifier\n",
    "from sklearn.linear_model import LogisticRegression\n",
    "from sklearn.model_selection import cross_val_score"
   ]
  },
  {
   "cell_type": "markdown",
   "metadata": {},
   "source": [
    "### Data Curation, Parsing, and Management"
   ]
  },
  {
   "cell_type": "markdown",
   "metadata": {},
   "source": [
    "Now that we have the libraries installed, we will load our data into a DataFrame with Pandas' read_csv method. This takes a comma separated value document and converts it into a DataFrame, convenient for data management and analysis. For what the data means, the codebook_food.docx file from the download link goes in depth."
   ]
  },
  {
   "cell_type": "code",
   "execution_count": 31,
   "metadata": {},
   "outputs": [
    {
     "data": {
      "text/html": [
       "<div>\n",
       "<table border=\"1\" class=\"dataframe\">\n",
       "  <thead>\n",
       "    <tr style=\"text-align: right;\">\n",
       "      <th></th>\n",
       "      <th>GPA</th>\n",
       "      <th>Gender</th>\n",
       "      <th>breakfast</th>\n",
       "      <th>calories_chicken</th>\n",
       "      <th>calories_day</th>\n",
       "      <th>calories_scone</th>\n",
       "      <th>coffee</th>\n",
       "      <th>comfort_food</th>\n",
       "      <th>comfort_food_reasons</th>\n",
       "      <th>comfort_food_reasons_coded</th>\n",
       "      <th>...</th>\n",
       "      <th>soup</th>\n",
       "      <th>sports</th>\n",
       "      <th>thai_food</th>\n",
       "      <th>tortilla_calories</th>\n",
       "      <th>turkey_calories</th>\n",
       "      <th>type_sports</th>\n",
       "      <th>veggies_day</th>\n",
       "      <th>vitamins</th>\n",
       "      <th>waffle_calories</th>\n",
       "      <th>weight</th>\n",
       "    </tr>\n",
       "  </thead>\n",
       "  <tbody>\n",
       "    <tr>\n",
       "      <th>0</th>\n",
       "      <td>2.4</td>\n",
       "      <td>2</td>\n",
       "      <td>1</td>\n",
       "      <td>430</td>\n",
       "      <td>NaN</td>\n",
       "      <td>315.0</td>\n",
       "      <td>1</td>\n",
       "      <td>none</td>\n",
       "      <td>we dont have comfort</td>\n",
       "      <td>9.0</td>\n",
       "      <td>...</td>\n",
       "      <td>1.0</td>\n",
       "      <td>1.0</td>\n",
       "      <td>1</td>\n",
       "      <td>1165.0</td>\n",
       "      <td>345</td>\n",
       "      <td>car racing</td>\n",
       "      <td>5</td>\n",
       "      <td>1</td>\n",
       "      <td>1315</td>\n",
       "      <td>187</td>\n",
       "    </tr>\n",
       "    <tr>\n",
       "      <th>1</th>\n",
       "      <td>3.654</td>\n",
       "      <td>1</td>\n",
       "      <td>1</td>\n",
       "      <td>610</td>\n",
       "      <td>3.0</td>\n",
       "      <td>420.0</td>\n",
       "      <td>2</td>\n",
       "      <td>chocolate, chips, ice cream</td>\n",
       "      <td>Stress, bored, anger</td>\n",
       "      <td>1.0</td>\n",
       "      <td>...</td>\n",
       "      <td>1.0</td>\n",
       "      <td>1.0</td>\n",
       "      <td>2</td>\n",
       "      <td>725.0</td>\n",
       "      <td>690</td>\n",
       "      <td>Basketball</td>\n",
       "      <td>4</td>\n",
       "      <td>2</td>\n",
       "      <td>900</td>\n",
       "      <td>155</td>\n",
       "    </tr>\n",
       "    <tr>\n",
       "      <th>2</th>\n",
       "      <td>3.3</td>\n",
       "      <td>1</td>\n",
       "      <td>1</td>\n",
       "      <td>720</td>\n",
       "      <td>4.0</td>\n",
       "      <td>420.0</td>\n",
       "      <td>2</td>\n",
       "      <td>frozen yogurt, pizza, fast food</td>\n",
       "      <td>stress, sadness</td>\n",
       "      <td>1.0</td>\n",
       "      <td>...</td>\n",
       "      <td>1.0</td>\n",
       "      <td>2.0</td>\n",
       "      <td>5</td>\n",
       "      <td>1165.0</td>\n",
       "      <td>500</td>\n",
       "      <td>none</td>\n",
       "      <td>5</td>\n",
       "      <td>1</td>\n",
       "      <td>900</td>\n",
       "      <td>I'm not answering this.</td>\n",
       "    </tr>\n",
       "    <tr>\n",
       "      <th>3</th>\n",
       "      <td>3.2</td>\n",
       "      <td>1</td>\n",
       "      <td>1</td>\n",
       "      <td>430</td>\n",
       "      <td>3.0</td>\n",
       "      <td>420.0</td>\n",
       "      <td>2</td>\n",
       "      <td>Pizza, Mac and cheese, ice cream</td>\n",
       "      <td>Boredom</td>\n",
       "      <td>2.0</td>\n",
       "      <td>...</td>\n",
       "      <td>1.0</td>\n",
       "      <td>2.0</td>\n",
       "      <td>5</td>\n",
       "      <td>725.0</td>\n",
       "      <td>690</td>\n",
       "      <td>NaN</td>\n",
       "      <td>3</td>\n",
       "      <td>1</td>\n",
       "      <td>1315</td>\n",
       "      <td>Not sure, 240</td>\n",
       "    </tr>\n",
       "    <tr>\n",
       "      <th>4</th>\n",
       "      <td>3.5</td>\n",
       "      <td>1</td>\n",
       "      <td>1</td>\n",
       "      <td>720</td>\n",
       "      <td>2.0</td>\n",
       "      <td>420.0</td>\n",
       "      <td>2</td>\n",
       "      <td>Ice cream, chocolate, chips</td>\n",
       "      <td>Stress, boredom, cravings</td>\n",
       "      <td>1.0</td>\n",
       "      <td>...</td>\n",
       "      <td>1.0</td>\n",
       "      <td>1.0</td>\n",
       "      <td>4</td>\n",
       "      <td>940.0</td>\n",
       "      <td>500</td>\n",
       "      <td>Softball</td>\n",
       "      <td>4</td>\n",
       "      <td>2</td>\n",
       "      <td>760</td>\n",
       "      <td>190</td>\n",
       "    </tr>\n",
       "  </tbody>\n",
       "</table>\n",
       "<p>5 rows × 61 columns</p>\n",
       "</div>"
      ],
      "text/plain": [
       "     GPA  Gender  breakfast  calories_chicken  calories_day  calories_scone  \\\n",
       "0    2.4       2          1               430           NaN           315.0   \n",
       "1  3.654       1          1               610           3.0           420.0   \n",
       "2    3.3       1          1               720           4.0           420.0   \n",
       "3    3.2       1          1               430           3.0           420.0   \n",
       "4    3.5       1          1               720           2.0           420.0   \n",
       "\n",
       "   coffee                      comfort_food        comfort_food_reasons  \\\n",
       "0       1                              none       we dont have comfort    \n",
       "1       2       chocolate, chips, ice cream        Stress, bored, anger   \n",
       "2       2   frozen yogurt, pizza, fast food             stress, sadness   \n",
       "3       2  Pizza, Mac and cheese, ice cream                     Boredom   \n",
       "4       2      Ice cream, chocolate, chips   Stress, boredom, cravings    \n",
       "\n",
       "   comfort_food_reasons_coded            ...             soup  sports  \\\n",
       "0                         9.0            ...              1.0     1.0   \n",
       "1                         1.0            ...              1.0     1.0   \n",
       "2                         1.0            ...              1.0     2.0   \n",
       "3                         2.0            ...              1.0     2.0   \n",
       "4                         1.0            ...              1.0     1.0   \n",
       "\n",
       "   thai_food tortilla_calories  turkey_calories  type_sports veggies_day  \\\n",
       "0          1            1165.0              345   car racing           5   \n",
       "1          2             725.0              690  Basketball            4   \n",
       "2          5            1165.0              500         none           5   \n",
       "3          5             725.0              690          NaN           3   \n",
       "4          4             940.0              500     Softball           4   \n",
       "\n",
       "   vitamins  waffle_calories                    weight  \n",
       "0         1             1315                       187  \n",
       "1         2              900                       155  \n",
       "2         1              900  I'm not answering this.   \n",
       "3         1             1315             Not sure, 240  \n",
       "4         2              760                       190  \n",
       "\n",
       "[5 rows x 61 columns]"
      ]
     },
     "execution_count": 31,
     "metadata": {},
     "output_type": "execute_result"
    }
   ],
   "source": [
    "# load the file\n",
    "food = pandas.read_csv(\"food_coded.csv\")\n",
    "food.head()"
   ]
  },
  {
   "cell_type": "markdown",
   "metadata": {},
   "source": [
    "There were 61 columns in our data! Some of them will not necessarily help us when it comes to learning about their weight perception. For example, the professions of parents (father_profession, mother_profession) may or may not seem very relevant to predicting how someone feels about their weight. For our analysis and for demonstration purposes, we will show how to drop specific columns of a DataFrame.\n",
    "\n",
    "There are also columns in the dataframe that are entirely text-based, such as comfort_food and comfort_food_reasons. It is possible to use Natural Language Processing to extract meaningful results for analysis. In this dataset, this is actually already done for several variables (ex. comfort_food_reasons and comfort_food_reasons_coded). In our analysis, we will be dropping the uncoded columns. If you're interested, feel free to check out the following resource to learn more about [how Natural Language Processing can be used](https://blog.algorithmia.com/introduction-natural-language-processing-nlp/) and practice yourself with [DataCamp's NLP Course](https://www.datacamp.com/courses/natural-language-processing-fundamentals-in-python).\n",
    "\n"
   ]
  },
  {
   "cell_type": "markdown",
   "metadata": {},
   "source": [
    "#### Handling Unnecessary Data\n",
    "\n",
    "The following command drops the column named 'GPA'. We pass in 'GPA' as the first term and specify if we want to drop rows (axis=0) or columns (axis=1) in the second term. See [here](http://pandas.pydata.org/pandas-docs/stable/generated/pandas.DataFrame.drop.html) for more information!"
   ]
  },
  {
   "cell_type": "code",
   "execution_count": 32,
   "metadata": {},
   "outputs": [
    {
     "data": {
      "text/html": [
       "<div>\n",
       "<table border=\"1\" class=\"dataframe\">\n",
       "  <thead>\n",
       "    <tr style=\"text-align: right;\">\n",
       "      <th></th>\n",
       "      <th>Gender</th>\n",
       "      <th>breakfast</th>\n",
       "      <th>calories_chicken</th>\n",
       "      <th>calories_day</th>\n",
       "      <th>calories_scone</th>\n",
       "      <th>coffee</th>\n",
       "      <th>comfort_food</th>\n",
       "      <th>comfort_food_reasons</th>\n",
       "      <th>comfort_food_reasons_coded</th>\n",
       "      <th>cook</th>\n",
       "      <th>...</th>\n",
       "      <th>soup</th>\n",
       "      <th>sports</th>\n",
       "      <th>thai_food</th>\n",
       "      <th>tortilla_calories</th>\n",
       "      <th>turkey_calories</th>\n",
       "      <th>type_sports</th>\n",
       "      <th>veggies_day</th>\n",
       "      <th>vitamins</th>\n",
       "      <th>waffle_calories</th>\n",
       "      <th>weight</th>\n",
       "    </tr>\n",
       "  </thead>\n",
       "  <tbody>\n",
       "    <tr>\n",
       "      <th>0</th>\n",
       "      <td>2</td>\n",
       "      <td>1</td>\n",
       "      <td>430</td>\n",
       "      <td>NaN</td>\n",
       "      <td>315.0</td>\n",
       "      <td>1</td>\n",
       "      <td>none</td>\n",
       "      <td>we dont have comfort</td>\n",
       "      <td>9.0</td>\n",
       "      <td>2.0</td>\n",
       "      <td>...</td>\n",
       "      <td>1.0</td>\n",
       "      <td>1.0</td>\n",
       "      <td>1</td>\n",
       "      <td>1165.0</td>\n",
       "      <td>345</td>\n",
       "      <td>car racing</td>\n",
       "      <td>5</td>\n",
       "      <td>1</td>\n",
       "      <td>1315</td>\n",
       "      <td>187</td>\n",
       "    </tr>\n",
       "    <tr>\n",
       "      <th>1</th>\n",
       "      <td>1</td>\n",
       "      <td>1</td>\n",
       "      <td>610</td>\n",
       "      <td>3.0</td>\n",
       "      <td>420.0</td>\n",
       "      <td>2</td>\n",
       "      <td>chocolate, chips, ice cream</td>\n",
       "      <td>Stress, bored, anger</td>\n",
       "      <td>1.0</td>\n",
       "      <td>3.0</td>\n",
       "      <td>...</td>\n",
       "      <td>1.0</td>\n",
       "      <td>1.0</td>\n",
       "      <td>2</td>\n",
       "      <td>725.0</td>\n",
       "      <td>690</td>\n",
       "      <td>Basketball</td>\n",
       "      <td>4</td>\n",
       "      <td>2</td>\n",
       "      <td>900</td>\n",
       "      <td>155</td>\n",
       "    </tr>\n",
       "    <tr>\n",
       "      <th>2</th>\n",
       "      <td>1</td>\n",
       "      <td>1</td>\n",
       "      <td>720</td>\n",
       "      <td>4.0</td>\n",
       "      <td>420.0</td>\n",
       "      <td>2</td>\n",
       "      <td>frozen yogurt, pizza, fast food</td>\n",
       "      <td>stress, sadness</td>\n",
       "      <td>1.0</td>\n",
       "      <td>1.0</td>\n",
       "      <td>...</td>\n",
       "      <td>1.0</td>\n",
       "      <td>2.0</td>\n",
       "      <td>5</td>\n",
       "      <td>1165.0</td>\n",
       "      <td>500</td>\n",
       "      <td>none</td>\n",
       "      <td>5</td>\n",
       "      <td>1</td>\n",
       "      <td>900</td>\n",
       "      <td>I'm not answering this.</td>\n",
       "    </tr>\n",
       "    <tr>\n",
       "      <th>3</th>\n",
       "      <td>1</td>\n",
       "      <td>1</td>\n",
       "      <td>430</td>\n",
       "      <td>3.0</td>\n",
       "      <td>420.0</td>\n",
       "      <td>2</td>\n",
       "      <td>Pizza, Mac and cheese, ice cream</td>\n",
       "      <td>Boredom</td>\n",
       "      <td>2.0</td>\n",
       "      <td>2.0</td>\n",
       "      <td>...</td>\n",
       "      <td>1.0</td>\n",
       "      <td>2.0</td>\n",
       "      <td>5</td>\n",
       "      <td>725.0</td>\n",
       "      <td>690</td>\n",
       "      <td>NaN</td>\n",
       "      <td>3</td>\n",
       "      <td>1</td>\n",
       "      <td>1315</td>\n",
       "      <td>Not sure, 240</td>\n",
       "    </tr>\n",
       "    <tr>\n",
       "      <th>4</th>\n",
       "      <td>1</td>\n",
       "      <td>1</td>\n",
       "      <td>720</td>\n",
       "      <td>2.0</td>\n",
       "      <td>420.0</td>\n",
       "      <td>2</td>\n",
       "      <td>Ice cream, chocolate, chips</td>\n",
       "      <td>Stress, boredom, cravings</td>\n",
       "      <td>1.0</td>\n",
       "      <td>1.0</td>\n",
       "      <td>...</td>\n",
       "      <td>1.0</td>\n",
       "      <td>1.0</td>\n",
       "      <td>4</td>\n",
       "      <td>940.0</td>\n",
       "      <td>500</td>\n",
       "      <td>Softball</td>\n",
       "      <td>4</td>\n",
       "      <td>2</td>\n",
       "      <td>760</td>\n",
       "      <td>190</td>\n",
       "    </tr>\n",
       "  </tbody>\n",
       "</table>\n",
       "<p>5 rows × 60 columns</p>\n",
       "</div>"
      ],
      "text/plain": [
       "   Gender  breakfast  calories_chicken  calories_day  calories_scone  coffee  \\\n",
       "0       2          1               430           NaN           315.0       1   \n",
       "1       1          1               610           3.0           420.0       2   \n",
       "2       1          1               720           4.0           420.0       2   \n",
       "3       1          1               430           3.0           420.0       2   \n",
       "4       1          1               720           2.0           420.0       2   \n",
       "\n",
       "                       comfort_food        comfort_food_reasons  \\\n",
       "0                              none       we dont have comfort    \n",
       "1       chocolate, chips, ice cream        Stress, bored, anger   \n",
       "2   frozen yogurt, pizza, fast food             stress, sadness   \n",
       "3  Pizza, Mac and cheese, ice cream                     Boredom   \n",
       "4      Ice cream, chocolate, chips   Stress, boredom, cravings    \n",
       "\n",
       "   comfort_food_reasons_coded  cook            ...             soup  sports  \\\n",
       "0                         9.0   2.0            ...              1.0     1.0   \n",
       "1                         1.0   3.0            ...              1.0     1.0   \n",
       "2                         1.0   1.0            ...              1.0     2.0   \n",
       "3                         2.0   2.0            ...              1.0     2.0   \n",
       "4                         1.0   1.0            ...              1.0     1.0   \n",
       "\n",
       "  thai_food  tortilla_calories  turkey_calories  type_sports  veggies_day  \\\n",
       "0         1             1165.0              345   car racing            5   \n",
       "1         2              725.0              690  Basketball             4   \n",
       "2         5             1165.0              500         none            5   \n",
       "3         5              725.0              690          NaN            3   \n",
       "4         4              940.0              500     Softball            4   \n",
       "\n",
       "   vitamins  waffle_calories                    weight  \n",
       "0         1             1315                       187  \n",
       "1         2              900                       155  \n",
       "2         1              900  I'm not answering this.   \n",
       "3         1             1315             Not sure, 240  \n",
       "4         2              760                       190  \n",
       "\n",
       "[5 rows x 60 columns]"
      ]
     },
     "execution_count": 32,
     "metadata": {},
     "output_type": "execute_result"
    }
   ],
   "source": [
    "# this drops the GPA column\n",
    "food = food.drop('GPA',axis=1)\n",
    "food.head()"
   ]
  },
  {
   "cell_type": "markdown",
   "metadata": {},
   "source": [
    "Alternatively, the drop command also accepts a list of columns to be dropped. Below, we pass in the remaining columns that we will be removing and not using in this analysis as the first term and once again specify we want to drop columns (axis=1) in the second term. "
   ]
  },
  {
   "cell_type": "code",
   "execution_count": 33,
   "metadata": {},
   "outputs": [
    {
     "data": {
      "text/html": [
       "<div>\n",
       "<table border=\"1\" class=\"dataframe\">\n",
       "  <thead>\n",
       "    <tr style=\"text-align: right;\">\n",
       "      <th></th>\n",
       "      <th>Gender</th>\n",
       "      <th>calories_day</th>\n",
       "      <th>comfort_food_reasons_coded</th>\n",
       "      <th>cook</th>\n",
       "      <th>diet_current_coded</th>\n",
       "      <th>eating_changes_coded</th>\n",
       "      <th>eating_changes_coded1</th>\n",
       "      <th>eating_out</th>\n",
       "      <th>exercise</th>\n",
       "      <th>fruit_day</th>\n",
       "      <th>...</th>\n",
       "      <th>life_rewarding</th>\n",
       "      <th>nutritional_check</th>\n",
       "      <th>on_off_campus</th>\n",
       "      <th>parents_cook</th>\n",
       "      <th>pay_meal_out</th>\n",
       "      <th>self_perception_weight</th>\n",
       "      <th>sports</th>\n",
       "      <th>veggies_day</th>\n",
       "      <th>vitamins</th>\n",
       "      <th>weight</th>\n",
       "    </tr>\n",
       "  </thead>\n",
       "  <tbody>\n",
       "    <tr>\n",
       "      <th>0</th>\n",
       "      <td>2</td>\n",
       "      <td>NaN</td>\n",
       "      <td>9.0</td>\n",
       "      <td>2.0</td>\n",
       "      <td>1</td>\n",
       "      <td>1</td>\n",
       "      <td>1</td>\n",
       "      <td>3</td>\n",
       "      <td>1.0</td>\n",
       "      <td>5</td>\n",
       "      <td>...</td>\n",
       "      <td>1.0</td>\n",
       "      <td>5</td>\n",
       "      <td>1.0</td>\n",
       "      <td>1</td>\n",
       "      <td>2</td>\n",
       "      <td>3.0</td>\n",
       "      <td>1.0</td>\n",
       "      <td>5</td>\n",
       "      <td>1</td>\n",
       "      <td>187</td>\n",
       "    </tr>\n",
       "    <tr>\n",
       "      <th>1</th>\n",
       "      <td>1</td>\n",
       "      <td>3.0</td>\n",
       "      <td>1.0</td>\n",
       "      <td>3.0</td>\n",
       "      <td>2</td>\n",
       "      <td>1</td>\n",
       "      <td>2</td>\n",
       "      <td>2</td>\n",
       "      <td>1.0</td>\n",
       "      <td>4</td>\n",
       "      <td>...</td>\n",
       "      <td>1.0</td>\n",
       "      <td>4</td>\n",
       "      <td>1.0</td>\n",
       "      <td>1</td>\n",
       "      <td>4</td>\n",
       "      <td>3.0</td>\n",
       "      <td>1.0</td>\n",
       "      <td>4</td>\n",
       "      <td>2</td>\n",
       "      <td>155</td>\n",
       "    </tr>\n",
       "    <tr>\n",
       "      <th>2</th>\n",
       "      <td>1</td>\n",
       "      <td>4.0</td>\n",
       "      <td>1.0</td>\n",
       "      <td>1.0</td>\n",
       "      <td>3</td>\n",
       "      <td>1</td>\n",
       "      <td>3</td>\n",
       "      <td>2</td>\n",
       "      <td>2.0</td>\n",
       "      <td>5</td>\n",
       "      <td>...</td>\n",
       "      <td>7.0</td>\n",
       "      <td>4</td>\n",
       "      <td>2.0</td>\n",
       "      <td>1</td>\n",
       "      <td>3</td>\n",
       "      <td>6.0</td>\n",
       "      <td>2.0</td>\n",
       "      <td>5</td>\n",
       "      <td>1</td>\n",
       "      <td>I'm not answering this.</td>\n",
       "    </tr>\n",
       "    <tr>\n",
       "      <th>3</th>\n",
       "      <td>1</td>\n",
       "      <td>3.0</td>\n",
       "      <td>2.0</td>\n",
       "      <td>2.0</td>\n",
       "      <td>2</td>\n",
       "      <td>1</td>\n",
       "      <td>3</td>\n",
       "      <td>2</td>\n",
       "      <td>3.0</td>\n",
       "      <td>4</td>\n",
       "      <td>...</td>\n",
       "      <td>2.0</td>\n",
       "      <td>2</td>\n",
       "      <td>1.0</td>\n",
       "      <td>1</td>\n",
       "      <td>2</td>\n",
       "      <td>5.0</td>\n",
       "      <td>2.0</td>\n",
       "      <td>3</td>\n",
       "      <td>1</td>\n",
       "      <td>Not sure, 240</td>\n",
       "    </tr>\n",
       "    <tr>\n",
       "      <th>4</th>\n",
       "      <td>1</td>\n",
       "      <td>2.0</td>\n",
       "      <td>1.0</td>\n",
       "      <td>1.0</td>\n",
       "      <td>2</td>\n",
       "      <td>3</td>\n",
       "      <td>4</td>\n",
       "      <td>2</td>\n",
       "      <td>1.0</td>\n",
       "      <td>4</td>\n",
       "      <td>...</td>\n",
       "      <td>1.0</td>\n",
       "      <td>3</td>\n",
       "      <td>1.0</td>\n",
       "      <td>1</td>\n",
       "      <td>4</td>\n",
       "      <td>4.0</td>\n",
       "      <td>1.0</td>\n",
       "      <td>4</td>\n",
       "      <td>2</td>\n",
       "      <td>190</td>\n",
       "    </tr>\n",
       "  </tbody>\n",
       "</table>\n",
       "<p>5 rows × 23 columns</p>\n",
       "</div>"
      ],
      "text/plain": [
       "   Gender  calories_day  comfort_food_reasons_coded  cook  diet_current_coded  \\\n",
       "0       2           NaN                         9.0   2.0                   1   \n",
       "1       1           3.0                         1.0   3.0                   2   \n",
       "2       1           4.0                         1.0   1.0                   3   \n",
       "3       1           3.0                         2.0   2.0                   2   \n",
       "4       1           2.0                         1.0   1.0                   2   \n",
       "\n",
       "   eating_changes_coded  eating_changes_coded1  eating_out  exercise  \\\n",
       "0                     1                      1           3       1.0   \n",
       "1                     1                      2           2       1.0   \n",
       "2                     1                      3           2       2.0   \n",
       "3                     1                      3           2       3.0   \n",
       "4                     3                      4           2       1.0   \n",
       "\n",
       "   fruit_day            ...             life_rewarding  nutritional_check  \\\n",
       "0          5            ...                        1.0                  5   \n",
       "1          4            ...                        1.0                  4   \n",
       "2          5            ...                        7.0                  4   \n",
       "3          4            ...                        2.0                  2   \n",
       "4          4            ...                        1.0                  3   \n",
       "\n",
       "   on_off_campus  parents_cook  pay_meal_out  self_perception_weight  sports  \\\n",
       "0            1.0             1             2                     3.0     1.0   \n",
       "1            1.0             1             4                     3.0     1.0   \n",
       "2            2.0             1             3                     6.0     2.0   \n",
       "3            1.0             1             2                     5.0     2.0   \n",
       "4            1.0             1             4                     4.0     1.0   \n",
       "\n",
       "   veggies_day  vitamins                    weight  \n",
       "0            5         1                       187  \n",
       "1            4         2                       155  \n",
       "2            5         1  I'm not answering this.   \n",
       "3            3         1             Not sure, 240  \n",
       "4            4         2                       190  \n",
       "\n",
       "[5 rows x 23 columns]"
      ]
     },
     "execution_count": 33,
     "metadata": {},
     "output_type": "execute_result"
    }
   ],
   "source": [
    "# this drops all the columns we will be excluding in this tutorial\n",
    "food = food.drop(['breakfast','calories_chicken','calories_scone','coffee', 'comfort_food',\n",
    "                  'comfort_food_reasons', 'comfort_food_reasons_coded.1',\n",
    "                  'cuisine', 'diet_current','drink','eating_changes',\n",
    "                  'employment', 'ethnic_food','father_education',\n",
    "                  'father_profession','fav_cuisine','fav_cuisine_coded', \n",
    "                  'fav_food','food_childhood','fries', 'greek_food',\n",
    "                  'healthy_meal','ideal_diet','ideal_diet_coded',\n",
    "                  'indian_food','italian_food','meals_dinner_friend',\n",
    "                  'mother_education', 'mother_profession','persian_food',\n",
    "                  'soup','thai_food', 'tortilla_calories','turkey_calories',\n",
    "                  'type_sports','waffle_calories','marital_status'], axis=1)\n",
    "food.head()"
   ]
  },
  {
   "cell_type": "markdown",
   "metadata": {},
   "source": [
    "#### Reformatting DataFrame\n",
    "\n",
    "Now that we have the columns we want, we may wish to reorder our columns in a way that makes more sense, such as putting variables of more significance first. As we are interested in self perception of weight and will likely look at actual weight later on, we will move the 'self_perception_weight' and 'weight' columns to the front. DataFrames have a reindex method, which takes a list of reordered column names and reorders the DataFrame accordingly. Below, we take the current list of columns, move the column weight to the front, move the column self_perception_weight in front of that, and then run the reindex command so we end up with our newly ordered DataFrame."
   ]
  },
  {
   "cell_type": "code",
   "execution_count": 34,
   "metadata": {},
   "outputs": [
    {
     "data": {
      "text/html": [
       "<div>\n",
       "<table border=\"1\" class=\"dataframe\">\n",
       "  <thead>\n",
       "    <tr style=\"text-align: right;\">\n",
       "      <th></th>\n",
       "      <th>self_perception_weight</th>\n",
       "      <th>weight</th>\n",
       "      <th>Gender</th>\n",
       "      <th>calories_day</th>\n",
       "      <th>comfort_food_reasons_coded</th>\n",
       "      <th>cook</th>\n",
       "      <th>diet_current_coded</th>\n",
       "      <th>eating_changes_coded</th>\n",
       "      <th>eating_changes_coded1</th>\n",
       "      <th>eating_out</th>\n",
       "      <th>...</th>\n",
       "      <th>healthy_feeling</th>\n",
       "      <th>income</th>\n",
       "      <th>life_rewarding</th>\n",
       "      <th>nutritional_check</th>\n",
       "      <th>on_off_campus</th>\n",
       "      <th>parents_cook</th>\n",
       "      <th>pay_meal_out</th>\n",
       "      <th>sports</th>\n",
       "      <th>veggies_day</th>\n",
       "      <th>vitamins</th>\n",
       "    </tr>\n",
       "  </thead>\n",
       "  <tbody>\n",
       "    <tr>\n",
       "      <th>0</th>\n",
       "      <td>3.0</td>\n",
       "      <td>187</td>\n",
       "      <td>2</td>\n",
       "      <td>NaN</td>\n",
       "      <td>9.0</td>\n",
       "      <td>2.0</td>\n",
       "      <td>1</td>\n",
       "      <td>1</td>\n",
       "      <td>1</td>\n",
       "      <td>3</td>\n",
       "      <td>...</td>\n",
       "      <td>2</td>\n",
       "      <td>5.0</td>\n",
       "      <td>1.0</td>\n",
       "      <td>5</td>\n",
       "      <td>1.0</td>\n",
       "      <td>1</td>\n",
       "      <td>2</td>\n",
       "      <td>1.0</td>\n",
       "      <td>5</td>\n",
       "      <td>1</td>\n",
       "    </tr>\n",
       "    <tr>\n",
       "      <th>1</th>\n",
       "      <td>3.0</td>\n",
       "      <td>155</td>\n",
       "      <td>1</td>\n",
       "      <td>3.0</td>\n",
       "      <td>1.0</td>\n",
       "      <td>3.0</td>\n",
       "      <td>2</td>\n",
       "      <td>1</td>\n",
       "      <td>2</td>\n",
       "      <td>2</td>\n",
       "      <td>...</td>\n",
       "      <td>5</td>\n",
       "      <td>4.0</td>\n",
       "      <td>1.0</td>\n",
       "      <td>4</td>\n",
       "      <td>1.0</td>\n",
       "      <td>1</td>\n",
       "      <td>4</td>\n",
       "      <td>1.0</td>\n",
       "      <td>4</td>\n",
       "      <td>2</td>\n",
       "    </tr>\n",
       "    <tr>\n",
       "      <th>2</th>\n",
       "      <td>6.0</td>\n",
       "      <td>I'm not answering this.</td>\n",
       "      <td>1</td>\n",
       "      <td>4.0</td>\n",
       "      <td>1.0</td>\n",
       "      <td>1.0</td>\n",
       "      <td>3</td>\n",
       "      <td>1</td>\n",
       "      <td>3</td>\n",
       "      <td>2</td>\n",
       "      <td>...</td>\n",
       "      <td>6</td>\n",
       "      <td>6.0</td>\n",
       "      <td>7.0</td>\n",
       "      <td>4</td>\n",
       "      <td>2.0</td>\n",
       "      <td>1</td>\n",
       "      <td>3</td>\n",
       "      <td>2.0</td>\n",
       "      <td>5</td>\n",
       "      <td>1</td>\n",
       "    </tr>\n",
       "    <tr>\n",
       "      <th>3</th>\n",
       "      <td>5.0</td>\n",
       "      <td>Not sure, 240</td>\n",
       "      <td>1</td>\n",
       "      <td>3.0</td>\n",
       "      <td>2.0</td>\n",
       "      <td>2.0</td>\n",
       "      <td>2</td>\n",
       "      <td>1</td>\n",
       "      <td>3</td>\n",
       "      <td>2</td>\n",
       "      <td>...</td>\n",
       "      <td>7</td>\n",
       "      <td>6.0</td>\n",
       "      <td>2.0</td>\n",
       "      <td>2</td>\n",
       "      <td>1.0</td>\n",
       "      <td>1</td>\n",
       "      <td>2</td>\n",
       "      <td>2.0</td>\n",
       "      <td>3</td>\n",
       "      <td>1</td>\n",
       "    </tr>\n",
       "    <tr>\n",
       "      <th>4</th>\n",
       "      <td>4.0</td>\n",
       "      <td>190</td>\n",
       "      <td>1</td>\n",
       "      <td>2.0</td>\n",
       "      <td>1.0</td>\n",
       "      <td>1.0</td>\n",
       "      <td>2</td>\n",
       "      <td>3</td>\n",
       "      <td>4</td>\n",
       "      <td>2</td>\n",
       "      <td>...</td>\n",
       "      <td>6</td>\n",
       "      <td>6.0</td>\n",
       "      <td>1.0</td>\n",
       "      <td>3</td>\n",
       "      <td>1.0</td>\n",
       "      <td>1</td>\n",
       "      <td>4</td>\n",
       "      <td>1.0</td>\n",
       "      <td>4</td>\n",
       "      <td>2</td>\n",
       "    </tr>\n",
       "  </tbody>\n",
       "</table>\n",
       "<p>5 rows × 23 columns</p>\n",
       "</div>"
      ],
      "text/plain": [
       "   self_perception_weight                    weight  Gender  calories_day  \\\n",
       "0                     3.0                       187       2           NaN   \n",
       "1                     3.0                       155       1           3.0   \n",
       "2                     6.0  I'm not answering this.        1           4.0   \n",
       "3                     5.0             Not sure, 240       1           3.0   \n",
       "4                     4.0                       190       1           2.0   \n",
       "\n",
       "   comfort_food_reasons_coded  cook  diet_current_coded  eating_changes_coded  \\\n",
       "0                         9.0   2.0                   1                     1   \n",
       "1                         1.0   3.0                   2                     1   \n",
       "2                         1.0   1.0                   3                     1   \n",
       "3                         2.0   2.0                   2                     1   \n",
       "4                         1.0   1.0                   2                     3   \n",
       "\n",
       "   eating_changes_coded1  eating_out    ...     healthy_feeling  income  \\\n",
       "0                      1           3    ...                   2     5.0   \n",
       "1                      2           2    ...                   5     4.0   \n",
       "2                      3           2    ...                   6     6.0   \n",
       "3                      3           2    ...                   7     6.0   \n",
       "4                      4           2    ...                   6     6.0   \n",
       "\n",
       "   life_rewarding  nutritional_check  on_off_campus  parents_cook  \\\n",
       "0             1.0                  5            1.0             1   \n",
       "1             1.0                  4            1.0             1   \n",
       "2             7.0                  4            2.0             1   \n",
       "3             2.0                  2            1.0             1   \n",
       "4             1.0                  3            1.0             1   \n",
       "\n",
       "   pay_meal_out  sports  veggies_day  vitamins  \n",
       "0             2     1.0            5         1  \n",
       "1             4     1.0            4         2  \n",
       "2             3     2.0            5         1  \n",
       "3             2     2.0            3         1  \n",
       "4             4     1.0            4         2  \n",
       "\n",
       "[5 rows x 23 columns]"
      ]
     },
     "execution_count": 34,
     "metadata": {},
     "output_type": "execute_result"
    }
   ],
   "source": [
    "# get the columns as a list\n",
    "cols = food.columns.tolist()\n",
    "# move the desired columns to the front\n",
    "cols.insert(0, cols.pop(cols.index('weight')))\n",
    "cols.insert(0, cols.pop(cols.index('self_perception_weight')))\n",
    "# reorder!\n",
    "food = food.reindex(columns=cols)\n",
    "food.head()"
   ]
  },
  {
   "cell_type": "markdown",
   "metadata": {},
   "source": [
    "Yikes! There are some non-numeric answers in this table where there should be numbers (e.g. the weight column), since certain parts of the survey were left as free response. Note entries in the weight column of index 2 ('I'm not answering this.') and index 3 ('Not sure, 240').\n",
    "\n",
    "#### Missing Data\n",
    "\n",
    "How do we handle such cases? This is an example of 'Missing Not at Random' (MNAR) data, in which the data itself has something to do with why it's missing. (You can learn more about missing data [here](http://onbiostatistics.blogspot.com/2012/10/missingness-mechanism-mcar-mar-and-mnar.html) and [here](https://statisticalhorizons.com/missing-at-random)). Weight can be a sensitive issue for some people, and as such they may choose not to disclose it. Luckily, this happens very infrequently in our dataset. When it does happen, we must discard the data, but for an answer such as 'Not sure, 240' we can extract the number from the response.\n",
    "\n",
    "In order to do this we can use [Regex](http://www.rexegg.com/regex-quickstart.html#ref), a way to pattern match on characters. If you are not very confident with your regex, feel free to [check it here](https://regex101.com/). We use the DataFrame replace method, which accepts a regex and replaces it with a desired string. Since our table has floats, we use the outer parentheses on (\\d(\\.\\d+)?) to indicate a grouping and capture that float. Here, the first \\d means to look for a digit and (\\.\\d+)? takes into account any possible decimal values with the float (the ? indicates that it is an optional part). The [^0-9\\.]\\* helps us match anything that isn't supposed to be part of a float (zero or more characters that aren't numbers or periods), which will be removed - the match will be replaced by just the float grouping."
   ]
  },
  {
   "cell_type": "code",
   "execution_count": 35,
   "metadata": {},
   "outputs": [
    {
     "data": {
      "text/html": [
       "<div>\n",
       "<table border=\"1\" class=\"dataframe\">\n",
       "  <thead>\n",
       "    <tr style=\"text-align: right;\">\n",
       "      <th></th>\n",
       "      <th>self_perception_weight</th>\n",
       "      <th>weight</th>\n",
       "      <th>Gender</th>\n",
       "      <th>calories_day</th>\n",
       "      <th>comfort_food_reasons_coded</th>\n",
       "      <th>cook</th>\n",
       "      <th>diet_current_coded</th>\n",
       "      <th>eating_changes_coded</th>\n",
       "      <th>eating_changes_coded1</th>\n",
       "      <th>eating_out</th>\n",
       "      <th>...</th>\n",
       "      <th>healthy_feeling</th>\n",
       "      <th>income</th>\n",
       "      <th>life_rewarding</th>\n",
       "      <th>nutritional_check</th>\n",
       "      <th>on_off_campus</th>\n",
       "      <th>parents_cook</th>\n",
       "      <th>pay_meal_out</th>\n",
       "      <th>sports</th>\n",
       "      <th>veggies_day</th>\n",
       "      <th>vitamins</th>\n",
       "    </tr>\n",
       "  </thead>\n",
       "  <tbody>\n",
       "    <tr>\n",
       "      <th>0</th>\n",
       "      <td>3.0</td>\n",
       "      <td>187</td>\n",
       "      <td>2</td>\n",
       "      <td>NaN</td>\n",
       "      <td>9.0</td>\n",
       "      <td>2.0</td>\n",
       "      <td>1</td>\n",
       "      <td>1</td>\n",
       "      <td>1</td>\n",
       "      <td>3</td>\n",
       "      <td>...</td>\n",
       "      <td>2</td>\n",
       "      <td>5.0</td>\n",
       "      <td>1.0</td>\n",
       "      <td>5</td>\n",
       "      <td>1.0</td>\n",
       "      <td>1</td>\n",
       "      <td>2</td>\n",
       "      <td>1.0</td>\n",
       "      <td>5</td>\n",
       "      <td>1</td>\n",
       "    </tr>\n",
       "    <tr>\n",
       "      <th>1</th>\n",
       "      <td>3.0</td>\n",
       "      <td>155</td>\n",
       "      <td>1</td>\n",
       "      <td>3.0</td>\n",
       "      <td>1.0</td>\n",
       "      <td>3.0</td>\n",
       "      <td>2</td>\n",
       "      <td>1</td>\n",
       "      <td>2</td>\n",
       "      <td>2</td>\n",
       "      <td>...</td>\n",
       "      <td>5</td>\n",
       "      <td>4.0</td>\n",
       "      <td>1.0</td>\n",
       "      <td>4</td>\n",
       "      <td>1.0</td>\n",
       "      <td>1</td>\n",
       "      <td>4</td>\n",
       "      <td>1.0</td>\n",
       "      <td>4</td>\n",
       "      <td>2</td>\n",
       "    </tr>\n",
       "    <tr>\n",
       "      <th>2</th>\n",
       "      <td>6.0</td>\n",
       "      <td>I'm not answering this.</td>\n",
       "      <td>1</td>\n",
       "      <td>4.0</td>\n",
       "      <td>1.0</td>\n",
       "      <td>1.0</td>\n",
       "      <td>3</td>\n",
       "      <td>1</td>\n",
       "      <td>3</td>\n",
       "      <td>2</td>\n",
       "      <td>...</td>\n",
       "      <td>6</td>\n",
       "      <td>6.0</td>\n",
       "      <td>7.0</td>\n",
       "      <td>4</td>\n",
       "      <td>2.0</td>\n",
       "      <td>1</td>\n",
       "      <td>3</td>\n",
       "      <td>2.0</td>\n",
       "      <td>5</td>\n",
       "      <td>1</td>\n",
       "    </tr>\n",
       "    <tr>\n",
       "      <th>3</th>\n",
       "      <td>5.0</td>\n",
       "      <td>240</td>\n",
       "      <td>1</td>\n",
       "      <td>3.0</td>\n",
       "      <td>2.0</td>\n",
       "      <td>2.0</td>\n",
       "      <td>2</td>\n",
       "      <td>1</td>\n",
       "      <td>3</td>\n",
       "      <td>2</td>\n",
       "      <td>...</td>\n",
       "      <td>7</td>\n",
       "      <td>6.0</td>\n",
       "      <td>2.0</td>\n",
       "      <td>2</td>\n",
       "      <td>1.0</td>\n",
       "      <td>1</td>\n",
       "      <td>2</td>\n",
       "      <td>2.0</td>\n",
       "      <td>3</td>\n",
       "      <td>1</td>\n",
       "    </tr>\n",
       "    <tr>\n",
       "      <th>4</th>\n",
       "      <td>4.0</td>\n",
       "      <td>190</td>\n",
       "      <td>1</td>\n",
       "      <td>2.0</td>\n",
       "      <td>1.0</td>\n",
       "      <td>1.0</td>\n",
       "      <td>2</td>\n",
       "      <td>3</td>\n",
       "      <td>4</td>\n",
       "      <td>2</td>\n",
       "      <td>...</td>\n",
       "      <td>6</td>\n",
       "      <td>6.0</td>\n",
       "      <td>1.0</td>\n",
       "      <td>3</td>\n",
       "      <td>1.0</td>\n",
       "      <td>1</td>\n",
       "      <td>4</td>\n",
       "      <td>1.0</td>\n",
       "      <td>4</td>\n",
       "      <td>2</td>\n",
       "    </tr>\n",
       "  </tbody>\n",
       "</table>\n",
       "<p>5 rows × 23 columns</p>\n",
       "</div>"
      ],
      "text/plain": [
       "   self_perception_weight                    weight  Gender  calories_day  \\\n",
       "0                     3.0                       187       2           NaN   \n",
       "1                     3.0                       155       1           3.0   \n",
       "2                     6.0  I'm not answering this.        1           4.0   \n",
       "3                     5.0                       240       1           3.0   \n",
       "4                     4.0                       190       1           2.0   \n",
       "\n",
       "   comfort_food_reasons_coded  cook  diet_current_coded  eating_changes_coded  \\\n",
       "0                         9.0   2.0                   1                     1   \n",
       "1                         1.0   3.0                   2                     1   \n",
       "2                         1.0   1.0                   3                     1   \n",
       "3                         2.0   2.0                   2                     1   \n",
       "4                         1.0   1.0                   2                     3   \n",
       "\n",
       "   eating_changes_coded1  eating_out    ...     healthy_feeling  income  \\\n",
       "0                      1           3    ...                   2     5.0   \n",
       "1                      2           2    ...                   5     4.0   \n",
       "2                      3           2    ...                   6     6.0   \n",
       "3                      3           2    ...                   7     6.0   \n",
       "4                      4           2    ...                   6     6.0   \n",
       "\n",
       "   life_rewarding  nutritional_check  on_off_campus  parents_cook  \\\n",
       "0             1.0                  5            1.0             1   \n",
       "1             1.0                  4            1.0             1   \n",
       "2             7.0                  4            2.0             1   \n",
       "3             2.0                  2            1.0             1   \n",
       "4             1.0                  3            1.0             1   \n",
       "\n",
       "   pay_meal_out  sports  veggies_day  vitamins  \n",
       "0             2     1.0            5         1  \n",
       "1             4     1.0            4         2  \n",
       "2             3     2.0            5         1  \n",
       "3             2     2.0            3         1  \n",
       "4             4     1.0            4         2  \n",
       "\n",
       "[5 rows x 23 columns]"
      ]
     },
     "execution_count": 35,
     "metadata": {},
     "output_type": "execute_result"
    }
   ],
   "source": [
    "# extracts floats from responses that are not entirely floats\n",
    "food = food.replace(r'[^0-9\\.]*(\\d(\\.\\d+)?)[^0-9\\.]*', '\\g<1>',regex=True)\n",
    "food.head()"
   ]
  },
  {
   "cell_type": "markdown",
   "metadata": {},
   "source": [
    "Note that the index 3 entry now has 240 as the weight. However, we are still left with instances of all text, such as in index 2.\n",
    "We will use another regex to replace these with 'NaN' - not a number.\n",
    "The following regex [^0-9\\.]+ matches one or more characters that aren't numbers or periods (which would not be allowed characters in a numerical response)."
   ]
  },
  {
   "cell_type": "code",
   "execution_count": 36,
   "metadata": {},
   "outputs": [
    {
     "data": {
      "text/html": [
       "<div>\n",
       "<table border=\"1\" class=\"dataframe\">\n",
       "  <thead>\n",
       "    <tr style=\"text-align: right;\">\n",
       "      <th></th>\n",
       "      <th>self_perception_weight</th>\n",
       "      <th>weight</th>\n",
       "      <th>Gender</th>\n",
       "      <th>calories_day</th>\n",
       "      <th>comfort_food_reasons_coded</th>\n",
       "      <th>cook</th>\n",
       "      <th>diet_current_coded</th>\n",
       "      <th>eating_changes_coded</th>\n",
       "      <th>eating_changes_coded1</th>\n",
       "      <th>eating_out</th>\n",
       "      <th>...</th>\n",
       "      <th>healthy_feeling</th>\n",
       "      <th>income</th>\n",
       "      <th>life_rewarding</th>\n",
       "      <th>nutritional_check</th>\n",
       "      <th>on_off_campus</th>\n",
       "      <th>parents_cook</th>\n",
       "      <th>pay_meal_out</th>\n",
       "      <th>sports</th>\n",
       "      <th>veggies_day</th>\n",
       "      <th>vitamins</th>\n",
       "    </tr>\n",
       "  </thead>\n",
       "  <tbody>\n",
       "    <tr>\n",
       "      <th>0</th>\n",
       "      <td>3.0</td>\n",
       "      <td>187</td>\n",
       "      <td>2</td>\n",
       "      <td>NaN</td>\n",
       "      <td>9.0</td>\n",
       "      <td>2.0</td>\n",
       "      <td>1</td>\n",
       "      <td>1</td>\n",
       "      <td>1</td>\n",
       "      <td>3</td>\n",
       "      <td>...</td>\n",
       "      <td>2</td>\n",
       "      <td>5.0</td>\n",
       "      <td>1.0</td>\n",
       "      <td>5</td>\n",
       "      <td>1.0</td>\n",
       "      <td>1</td>\n",
       "      <td>2</td>\n",
       "      <td>1.0</td>\n",
       "      <td>5</td>\n",
       "      <td>1</td>\n",
       "    </tr>\n",
       "    <tr>\n",
       "      <th>1</th>\n",
       "      <td>3.0</td>\n",
       "      <td>155</td>\n",
       "      <td>1</td>\n",
       "      <td>3.0</td>\n",
       "      <td>1.0</td>\n",
       "      <td>3.0</td>\n",
       "      <td>2</td>\n",
       "      <td>1</td>\n",
       "      <td>2</td>\n",
       "      <td>2</td>\n",
       "      <td>...</td>\n",
       "      <td>5</td>\n",
       "      <td>4.0</td>\n",
       "      <td>1.0</td>\n",
       "      <td>4</td>\n",
       "      <td>1.0</td>\n",
       "      <td>1</td>\n",
       "      <td>4</td>\n",
       "      <td>1.0</td>\n",
       "      <td>4</td>\n",
       "      <td>2</td>\n",
       "    </tr>\n",
       "    <tr>\n",
       "      <th>2</th>\n",
       "      <td>6.0</td>\n",
       "      <td>NaN</td>\n",
       "      <td>1</td>\n",
       "      <td>4.0</td>\n",
       "      <td>1.0</td>\n",
       "      <td>1.0</td>\n",
       "      <td>3</td>\n",
       "      <td>1</td>\n",
       "      <td>3</td>\n",
       "      <td>2</td>\n",
       "      <td>...</td>\n",
       "      <td>6</td>\n",
       "      <td>6.0</td>\n",
       "      <td>7.0</td>\n",
       "      <td>4</td>\n",
       "      <td>2.0</td>\n",
       "      <td>1</td>\n",
       "      <td>3</td>\n",
       "      <td>2.0</td>\n",
       "      <td>5</td>\n",
       "      <td>1</td>\n",
       "    </tr>\n",
       "    <tr>\n",
       "      <th>3</th>\n",
       "      <td>5.0</td>\n",
       "      <td>240</td>\n",
       "      <td>1</td>\n",
       "      <td>3.0</td>\n",
       "      <td>2.0</td>\n",
       "      <td>2.0</td>\n",
       "      <td>2</td>\n",
       "      <td>1</td>\n",
       "      <td>3</td>\n",
       "      <td>2</td>\n",
       "      <td>...</td>\n",
       "      <td>7</td>\n",
       "      <td>6.0</td>\n",
       "      <td>2.0</td>\n",
       "      <td>2</td>\n",
       "      <td>1.0</td>\n",
       "      <td>1</td>\n",
       "      <td>2</td>\n",
       "      <td>2.0</td>\n",
       "      <td>3</td>\n",
       "      <td>1</td>\n",
       "    </tr>\n",
       "    <tr>\n",
       "      <th>4</th>\n",
       "      <td>4.0</td>\n",
       "      <td>190</td>\n",
       "      <td>1</td>\n",
       "      <td>2.0</td>\n",
       "      <td>1.0</td>\n",
       "      <td>1.0</td>\n",
       "      <td>2</td>\n",
       "      <td>3</td>\n",
       "      <td>4</td>\n",
       "      <td>2</td>\n",
       "      <td>...</td>\n",
       "      <td>6</td>\n",
       "      <td>6.0</td>\n",
       "      <td>1.0</td>\n",
       "      <td>3</td>\n",
       "      <td>1.0</td>\n",
       "      <td>1</td>\n",
       "      <td>4</td>\n",
       "      <td>1.0</td>\n",
       "      <td>4</td>\n",
       "      <td>2</td>\n",
       "    </tr>\n",
       "  </tbody>\n",
       "</table>\n",
       "<p>5 rows × 23 columns</p>\n",
       "</div>"
      ],
      "text/plain": [
       "   self_perception_weight weight  Gender  calories_day  \\\n",
       "0                     3.0    187       2           NaN   \n",
       "1                     3.0    155       1           3.0   \n",
       "2                     6.0    NaN       1           4.0   \n",
       "3                     5.0    240       1           3.0   \n",
       "4                     4.0    190       1           2.0   \n",
       "\n",
       "   comfort_food_reasons_coded  cook  diet_current_coded  eating_changes_coded  \\\n",
       "0                         9.0   2.0                   1                     1   \n",
       "1                         1.0   3.0                   2                     1   \n",
       "2                         1.0   1.0                   3                     1   \n",
       "3                         2.0   2.0                   2                     1   \n",
       "4                         1.0   1.0                   2                     3   \n",
       "\n",
       "   eating_changes_coded1  eating_out    ...     healthy_feeling  income  \\\n",
       "0                      1           3    ...                   2     5.0   \n",
       "1                      2           2    ...                   5     4.0   \n",
       "2                      3           2    ...                   6     6.0   \n",
       "3                      3           2    ...                   7     6.0   \n",
       "4                      4           2    ...                   6     6.0   \n",
       "\n",
       "   life_rewarding  nutritional_check  on_off_campus  parents_cook  \\\n",
       "0             1.0                  5            1.0             1   \n",
       "1             1.0                  4            1.0             1   \n",
       "2             7.0                  4            2.0             1   \n",
       "3             2.0                  2            1.0             1   \n",
       "4             1.0                  3            1.0             1   \n",
       "\n",
       "   pay_meal_out  sports  veggies_day  vitamins  \n",
       "0             2     1.0            5         1  \n",
       "1             4     1.0            4         2  \n",
       "2             3     2.0            5         1  \n",
       "3             2     2.0            3         1  \n",
       "4             4     1.0            4         2  \n",
       "\n",
       "[5 rows x 23 columns]"
      ]
     },
     "execution_count": 36,
     "metadata": {},
     "output_type": "execute_result"
    }
   ],
   "source": [
    "# replaces non-numeric responses with NaN\n",
    "food = food.replace(r'[^0-9\\.]+',numpy.nan,regex=True)\n",
    "food.head()"
   ]
  },
  {
   "cell_type": "markdown",
   "metadata": {},
   "source": [
    "Finally, for the purposes of our analysis, we cannot impute (replace or substitite) any missing data, and thus any row with a NaN in a response will have to be dropped. The DataFrame dropna method does this for us. We specify axis=0 to indicate we want to drop any rows that have a NaN response."
   ]
  },
  {
   "cell_type": "code",
   "execution_count": 37,
   "metadata": {},
   "outputs": [
    {
     "data": {
      "text/html": [
       "<div>\n",
       "<table border=\"1\" class=\"dataframe\">\n",
       "  <thead>\n",
       "    <tr style=\"text-align: right;\">\n",
       "      <th></th>\n",
       "      <th>self_perception_weight</th>\n",
       "      <th>weight</th>\n",
       "      <th>Gender</th>\n",
       "      <th>calories_day</th>\n",
       "      <th>comfort_food_reasons_coded</th>\n",
       "      <th>cook</th>\n",
       "      <th>diet_current_coded</th>\n",
       "      <th>eating_changes_coded</th>\n",
       "      <th>eating_changes_coded1</th>\n",
       "      <th>eating_out</th>\n",
       "      <th>...</th>\n",
       "      <th>healthy_feeling</th>\n",
       "      <th>income</th>\n",
       "      <th>life_rewarding</th>\n",
       "      <th>nutritional_check</th>\n",
       "      <th>on_off_campus</th>\n",
       "      <th>parents_cook</th>\n",
       "      <th>pay_meal_out</th>\n",
       "      <th>sports</th>\n",
       "      <th>veggies_day</th>\n",
       "      <th>vitamins</th>\n",
       "    </tr>\n",
       "  </thead>\n",
       "  <tbody>\n",
       "    <tr>\n",
       "      <th>1</th>\n",
       "      <td>3.0</td>\n",
       "      <td>155</td>\n",
       "      <td>1</td>\n",
       "      <td>3.0</td>\n",
       "      <td>1.0</td>\n",
       "      <td>3.0</td>\n",
       "      <td>2</td>\n",
       "      <td>1</td>\n",
       "      <td>2</td>\n",
       "      <td>2</td>\n",
       "      <td>...</td>\n",
       "      <td>5</td>\n",
       "      <td>4.0</td>\n",
       "      <td>1.0</td>\n",
       "      <td>4</td>\n",
       "      <td>1.0</td>\n",
       "      <td>1</td>\n",
       "      <td>4</td>\n",
       "      <td>1.0</td>\n",
       "      <td>4</td>\n",
       "      <td>2</td>\n",
       "    </tr>\n",
       "    <tr>\n",
       "      <th>3</th>\n",
       "      <td>5.0</td>\n",
       "      <td>240</td>\n",
       "      <td>1</td>\n",
       "      <td>3.0</td>\n",
       "      <td>2.0</td>\n",
       "      <td>2.0</td>\n",
       "      <td>2</td>\n",
       "      <td>1</td>\n",
       "      <td>3</td>\n",
       "      <td>2</td>\n",
       "      <td>...</td>\n",
       "      <td>7</td>\n",
       "      <td>6.0</td>\n",
       "      <td>2.0</td>\n",
       "      <td>2</td>\n",
       "      <td>1.0</td>\n",
       "      <td>1</td>\n",
       "      <td>2</td>\n",
       "      <td>2.0</td>\n",
       "      <td>3</td>\n",
       "      <td>1</td>\n",
       "    </tr>\n",
       "    <tr>\n",
       "      <th>4</th>\n",
       "      <td>4.0</td>\n",
       "      <td>190</td>\n",
       "      <td>1</td>\n",
       "      <td>2.0</td>\n",
       "      <td>1.0</td>\n",
       "      <td>1.0</td>\n",
       "      <td>2</td>\n",
       "      <td>3</td>\n",
       "      <td>4</td>\n",
       "      <td>2</td>\n",
       "      <td>...</td>\n",
       "      <td>6</td>\n",
       "      <td>6.0</td>\n",
       "      <td>1.0</td>\n",
       "      <td>3</td>\n",
       "      <td>1.0</td>\n",
       "      <td>1</td>\n",
       "      <td>4</td>\n",
       "      <td>1.0</td>\n",
       "      <td>4</td>\n",
       "      <td>2</td>\n",
       "    </tr>\n",
       "    <tr>\n",
       "      <th>5</th>\n",
       "      <td>5.0</td>\n",
       "      <td>190</td>\n",
       "      <td>1</td>\n",
       "      <td>3.0</td>\n",
       "      <td>4.0</td>\n",
       "      <td>3.0</td>\n",
       "      <td>2</td>\n",
       "      <td>1</td>\n",
       "      <td>3</td>\n",
       "      <td>1</td>\n",
       "      <td>...</td>\n",
       "      <td>4</td>\n",
       "      <td>1.0</td>\n",
       "      <td>4.0</td>\n",
       "      <td>1</td>\n",
       "      <td>1.0</td>\n",
       "      <td>2</td>\n",
       "      <td>5</td>\n",
       "      <td>2.0</td>\n",
       "      <td>1</td>\n",
       "      <td>2</td>\n",
       "    </tr>\n",
       "    <tr>\n",
       "      <th>6</th>\n",
       "      <td>4.0</td>\n",
       "      <td>180</td>\n",
       "      <td>2</td>\n",
       "      <td>3.0</td>\n",
       "      <td>1.0</td>\n",
       "      <td>2.0</td>\n",
       "      <td>3</td>\n",
       "      <td>2</td>\n",
       "      <td>5</td>\n",
       "      <td>2</td>\n",
       "      <td>...</td>\n",
       "      <td>4</td>\n",
       "      <td>4.0</td>\n",
       "      <td>8.0</td>\n",
       "      <td>4</td>\n",
       "      <td>2.0</td>\n",
       "      <td>2</td>\n",
       "      <td>2</td>\n",
       "      <td>1.0</td>\n",
       "      <td>4</td>\n",
       "      <td>1</td>\n",
       "    </tr>\n",
       "  </tbody>\n",
       "</table>\n",
       "<p>5 rows × 23 columns</p>\n",
       "</div>"
      ],
      "text/plain": [
       "   self_perception_weight weight  Gender  calories_day  \\\n",
       "1                     3.0    155       1           3.0   \n",
       "3                     5.0    240       1           3.0   \n",
       "4                     4.0    190       1           2.0   \n",
       "5                     5.0    190       1           3.0   \n",
       "6                     4.0    180       2           3.0   \n",
       "\n",
       "   comfort_food_reasons_coded  cook  diet_current_coded  eating_changes_coded  \\\n",
       "1                         1.0   3.0                   2                     1   \n",
       "3                         2.0   2.0                   2                     1   \n",
       "4                         1.0   1.0                   2                     3   \n",
       "5                         4.0   3.0                   2                     1   \n",
       "6                         1.0   2.0                   3                     2   \n",
       "\n",
       "   eating_changes_coded1  eating_out    ...     healthy_feeling  income  \\\n",
       "1                      2           2    ...                   5     4.0   \n",
       "3                      3           2    ...                   7     6.0   \n",
       "4                      4           2    ...                   6     6.0   \n",
       "5                      3           1    ...                   4     1.0   \n",
       "6                      5           2    ...                   4     4.0   \n",
       "\n",
       "   life_rewarding  nutritional_check  on_off_campus  parents_cook  \\\n",
       "1             1.0                  4            1.0             1   \n",
       "3             2.0                  2            1.0             1   \n",
       "4             1.0                  3            1.0             1   \n",
       "5             4.0                  1            1.0             2   \n",
       "6             8.0                  4            2.0             2   \n",
       "\n",
       "   pay_meal_out  sports  veggies_day  vitamins  \n",
       "1             4     1.0            4         2  \n",
       "3             2     2.0            3         1  \n",
       "4             4     1.0            4         2  \n",
       "5             5     2.0            1         2  \n",
       "6             2     1.0            4         1  \n",
       "\n",
       "[5 rows x 23 columns]"
      ]
     },
     "execution_count": 37,
     "metadata": {},
     "output_type": "execute_result"
    }
   ],
   "source": [
    "# remove all NaNs\n",
    "food = food.dropna(axis=0)\n",
    "food.head()"
   ]
  },
  {
   "cell_type": "markdown",
   "metadata": {},
   "source": [
    "Recall that self_perception_weight asks respondent to rank how they perceive themselves (1 - slim, 2 - very fit, 3 - just right, 4 - slightly overweight, 5 - overweight, 6 - I dont think of myself in these terms). Since we are trying to predict self_perception_weight, we would like to exclude option 6 as it is not within the continuum of values. To obtain the rows where self_perception_weight is not 6 and obtain a new dataframe, we run the following command:"
   ]
  },
  {
   "cell_type": "code",
   "execution_count": 38,
   "metadata": {
    "collapsed": true
   },
   "outputs": [],
   "source": [
    "# only keep data where people responded with their perception\n",
    "food = food[food['self_perception_weight']!=6]"
   ]
  },
  {
   "cell_type": "markdown",
   "metadata": {},
   "source": [
    "Finally, we want to make our data consistent. Some responses may be strings of numerics, which we do not want. The DataFrame method apply will apply a function (in this case, pandas.to_numeric) to the entire dataframe."
   ]
  },
  {
   "cell_type": "code",
   "execution_count": 39,
   "metadata": {},
   "outputs": [
    {
     "data": {
      "text/html": [
       "<div>\n",
       "<table border=\"1\" class=\"dataframe\">\n",
       "  <thead>\n",
       "    <tr style=\"text-align: right;\">\n",
       "      <th></th>\n",
       "      <th>self_perception_weight</th>\n",
       "      <th>weight</th>\n",
       "      <th>Gender</th>\n",
       "      <th>calories_day</th>\n",
       "      <th>comfort_food_reasons_coded</th>\n",
       "      <th>cook</th>\n",
       "      <th>diet_current_coded</th>\n",
       "      <th>eating_changes_coded</th>\n",
       "      <th>eating_changes_coded1</th>\n",
       "      <th>eating_out</th>\n",
       "      <th>...</th>\n",
       "      <th>healthy_feeling</th>\n",
       "      <th>income</th>\n",
       "      <th>life_rewarding</th>\n",
       "      <th>nutritional_check</th>\n",
       "      <th>on_off_campus</th>\n",
       "      <th>parents_cook</th>\n",
       "      <th>pay_meal_out</th>\n",
       "      <th>sports</th>\n",
       "      <th>veggies_day</th>\n",
       "      <th>vitamins</th>\n",
       "    </tr>\n",
       "  </thead>\n",
       "  <tbody>\n",
       "    <tr>\n",
       "      <th>1</th>\n",
       "      <td>3.0</td>\n",
       "      <td>155</td>\n",
       "      <td>1</td>\n",
       "      <td>3.0</td>\n",
       "      <td>1.0</td>\n",
       "      <td>3.0</td>\n",
       "      <td>2</td>\n",
       "      <td>1</td>\n",
       "      <td>2</td>\n",
       "      <td>2</td>\n",
       "      <td>...</td>\n",
       "      <td>5</td>\n",
       "      <td>4.0</td>\n",
       "      <td>1.0</td>\n",
       "      <td>4</td>\n",
       "      <td>1.0</td>\n",
       "      <td>1</td>\n",
       "      <td>4</td>\n",
       "      <td>1.0</td>\n",
       "      <td>4</td>\n",
       "      <td>2</td>\n",
       "    </tr>\n",
       "    <tr>\n",
       "      <th>3</th>\n",
       "      <td>5.0</td>\n",
       "      <td>240</td>\n",
       "      <td>1</td>\n",
       "      <td>3.0</td>\n",
       "      <td>2.0</td>\n",
       "      <td>2.0</td>\n",
       "      <td>2</td>\n",
       "      <td>1</td>\n",
       "      <td>3</td>\n",
       "      <td>2</td>\n",
       "      <td>...</td>\n",
       "      <td>7</td>\n",
       "      <td>6.0</td>\n",
       "      <td>2.0</td>\n",
       "      <td>2</td>\n",
       "      <td>1.0</td>\n",
       "      <td>1</td>\n",
       "      <td>2</td>\n",
       "      <td>2.0</td>\n",
       "      <td>3</td>\n",
       "      <td>1</td>\n",
       "    </tr>\n",
       "    <tr>\n",
       "      <th>4</th>\n",
       "      <td>4.0</td>\n",
       "      <td>190</td>\n",
       "      <td>1</td>\n",
       "      <td>2.0</td>\n",
       "      <td>1.0</td>\n",
       "      <td>1.0</td>\n",
       "      <td>2</td>\n",
       "      <td>3</td>\n",
       "      <td>4</td>\n",
       "      <td>2</td>\n",
       "      <td>...</td>\n",
       "      <td>6</td>\n",
       "      <td>6.0</td>\n",
       "      <td>1.0</td>\n",
       "      <td>3</td>\n",
       "      <td>1.0</td>\n",
       "      <td>1</td>\n",
       "      <td>4</td>\n",
       "      <td>1.0</td>\n",
       "      <td>4</td>\n",
       "      <td>2</td>\n",
       "    </tr>\n",
       "    <tr>\n",
       "      <th>5</th>\n",
       "      <td>5.0</td>\n",
       "      <td>190</td>\n",
       "      <td>1</td>\n",
       "      <td>3.0</td>\n",
       "      <td>4.0</td>\n",
       "      <td>3.0</td>\n",
       "      <td>2</td>\n",
       "      <td>1</td>\n",
       "      <td>3</td>\n",
       "      <td>1</td>\n",
       "      <td>...</td>\n",
       "      <td>4</td>\n",
       "      <td>1.0</td>\n",
       "      <td>4.0</td>\n",
       "      <td>1</td>\n",
       "      <td>1.0</td>\n",
       "      <td>2</td>\n",
       "      <td>5</td>\n",
       "      <td>2.0</td>\n",
       "      <td>1</td>\n",
       "      <td>2</td>\n",
       "    </tr>\n",
       "    <tr>\n",
       "      <th>6</th>\n",
       "      <td>4.0</td>\n",
       "      <td>180</td>\n",
       "      <td>2</td>\n",
       "      <td>3.0</td>\n",
       "      <td>1.0</td>\n",
       "      <td>2.0</td>\n",
       "      <td>3</td>\n",
       "      <td>2</td>\n",
       "      <td>5</td>\n",
       "      <td>2</td>\n",
       "      <td>...</td>\n",
       "      <td>4</td>\n",
       "      <td>4.0</td>\n",
       "      <td>8.0</td>\n",
       "      <td>4</td>\n",
       "      <td>2.0</td>\n",
       "      <td>2</td>\n",
       "      <td>2</td>\n",
       "      <td>1.0</td>\n",
       "      <td>4</td>\n",
       "      <td>1</td>\n",
       "    </tr>\n",
       "  </tbody>\n",
       "</table>\n",
       "<p>5 rows × 23 columns</p>\n",
       "</div>"
      ],
      "text/plain": [
       "   self_perception_weight  weight  Gender  calories_day  \\\n",
       "1                     3.0     155       1           3.0   \n",
       "3                     5.0     240       1           3.0   \n",
       "4                     4.0     190       1           2.0   \n",
       "5                     5.0     190       1           3.0   \n",
       "6                     4.0     180       2           3.0   \n",
       "\n",
       "   comfort_food_reasons_coded  cook  diet_current_coded  eating_changes_coded  \\\n",
       "1                         1.0   3.0                   2                     1   \n",
       "3                         2.0   2.0                   2                     1   \n",
       "4                         1.0   1.0                   2                     3   \n",
       "5                         4.0   3.0                   2                     1   \n",
       "6                         1.0   2.0                   3                     2   \n",
       "\n",
       "   eating_changes_coded1  eating_out    ...     healthy_feeling  income  \\\n",
       "1                      2           2    ...                   5     4.0   \n",
       "3                      3           2    ...                   7     6.0   \n",
       "4                      4           2    ...                   6     6.0   \n",
       "5                      3           1    ...                   4     1.0   \n",
       "6                      5           2    ...                   4     4.0   \n",
       "\n",
       "   life_rewarding  nutritional_check  on_off_campus  parents_cook  \\\n",
       "1             1.0                  4            1.0             1   \n",
       "3             2.0                  2            1.0             1   \n",
       "4             1.0                  3            1.0             1   \n",
       "5             4.0                  1            1.0             2   \n",
       "6             8.0                  4            2.0             2   \n",
       "\n",
       "   pay_meal_out  sports  veggies_day  vitamins  \n",
       "1             4     1.0            4         2  \n",
       "3             2     2.0            3         1  \n",
       "4             4     1.0            4         2  \n",
       "5             5     2.0            1         2  \n",
       "6             2     1.0            4         1  \n",
       "\n",
       "[5 rows x 23 columns]"
      ]
     },
     "execution_count": 39,
     "metadata": {},
     "output_type": "execute_result"
    }
   ],
   "source": [
    "# make the data consistent in that they are all numeric responses\n",
    "food = food.apply(pandas.to_numeric, errors='ignore')\n",
    "food.head()"
   ]
  },
  {
   "cell_type": "markdown",
   "metadata": {},
   "source": [
    "### Exploratory Data Analysis"
   ]
  },
  {
   "cell_type": "markdown",
   "metadata": {},
   "source": [
    "Now let's begin to look at some interesting aspects of the data by plotting.\n",
    "Let's try making a scatter plot for grade_level and weight perception."
   ]
  },
  {
   "cell_type": "code",
   "execution_count": 40,
   "metadata": {},
   "outputs": [
    {
     "data": {
      "image/png": "[encoded data removed]",
      "text/plain": [
       "<matplotlib.figure.Figure at 0x7fb7322eaf98>"
      ]
     },
     "metadata": {},
     "output_type": "display_data"
    }
   ],
   "source": [
    "# prepare a plot\n",
    "fig, ax = plt.subplots()\n",
    "fig.set_size_inches(12,9)\n",
    "\n",
    "# set the labels\n",
    "ax.set_title('Perception of Weight Based on Year in College', fontsize=20)\n",
    "ax.set_xlabel('Year in College', fontsize=16)\n",
    "ax.set_ylabel('Perception of Weight', fontsize=16)\n",
    "\n",
    "# plot the points\n",
    "ax.scatter(food['grade_level'],food['self_perception_weight'])\n",
    "plt.show()"
   ]
  },
  {
   "cell_type": "markdown",
   "metadata": {},
   "source": [
    "We notice that because our data is fairly categorical (Freshman, Sophomore, Junior, Senior), we end up with a scatter plot that consist of dots in vertical lines, some of which is fairly concentrated, while others are spread out. This really doesn't give us much information. A violin plot better suits our purposes and shows us the actual distributions for each grade level.\n"
   ]
  },
  {
   "cell_type": "code",
   "execution_count": 41,
   "metadata": {
    "scrolled": false
   },
   "outputs": [
    {
     "data": {
      "image/png": "[encoded data removed]",
      "text/plain": [
       "<matplotlib.figure.Figure at 0x7fb731c67c88>"
      ]
     },
     "metadata": {},
     "output_type": "display_data"
    },
    {
     "data": {
      "text/plain": [
       "<ggplot: (-9223363260305344168)>"
      ]
     },
     "execution_count": 41,
     "metadata": {},
     "output_type": "execute_result"
    }
   ],
   "source": [
    "# this creates a violin plot with the desired data and labels\n",
    "ggplot(aes(x='grade_level', y='self_perception_weight'), data=food) +\\\n",
    "    geom_violin() +\\\n",
    "    labs(title=\"Perception of Weight Based on Year in College\",\n",
    "         x = \"Year In College\",\n",
    "         y = \"Perception of Weight\")"
   ]
  },
  {
   "cell_type": "markdown",
   "metadata": {},
   "source": [
    "A violin plot shows us many useful things, specifically the distribution of data for each grade level. We see that freshmen weight perception is skewed upwards while junior weight perception is skewed downwards.\n",
    "\n",
    "However, this doesn't tell us of any trend in particular when it comes to how weight perception changes over the years. That's okay! There are other variables we can look at, such as how a person's actual weight relates to their weight perception."
   ]
  },
  {
   "cell_type": "code",
   "execution_count": 42,
   "metadata": {},
   "outputs": [
    {
     "data": {
      "image/png": "[encoded data removed]",
      "text/plain": [
       "<matplotlib.figure.Figure at 0x7fb731bf42e8>"
      ]
     },
     "metadata": {},
     "output_type": "display_data"
    },
    {
     "data": {
      "text/plain": [
       "<ggplot: (8776549563512)>"
      ]
     },
     "execution_count": 42,
     "metadata": {},
     "output_type": "execute_result"
    }
   ],
   "source": [
    "ggplot(aes(x='self_perception_weight', y='weight'), data=food) +\\\n",
    "    geom_violin() +\\\n",
    "    labs(title=\"Comparing Perceived Weight with Actual Weight\",\n",
    "         x = \"Perceived Weight\",\n",
    "         y = \"Actual Weight\")"
   ]
  },
  {
   "cell_type": "markdown",
   "metadata": {},
   "source": [
    "Here, we see what appears to be a linear increasing trend where actual weight increases as perceived weight increases, which would make logical sense. The distributions for each perception rank vary; we see that the weights for a rank of 1 are fairly concentrated while the weights for a rank of 4 have a greater spread with some skew.\n",
    "\n",
    "#### Linear Regression\n",
    "\n",
    "Since we noticed a linear increasing trend, let's explore linear regression. It is another way we can observe a correlation between variables. Read more about linear regression [here](http://www.mit.edu/~6.s085/notes/lecture3.pdf)."
   ]
  },
  {
   "cell_type": "code",
   "execution_count": 43,
   "metadata": {},
   "outputs": [
    {
     "data": {
      "image/png": "[encoded data removed]",
      "text/plain": [
       "<matplotlib.figure.Figure at 0x7fb731bbda20>"
      ]
     },
     "metadata": {},
     "output_type": "display_data"
    }
   ],
   "source": [
    "fig, ax = plt.subplots()\n",
    "ax.set_title('Comparing Perceived Weight with Actual Weight', fontsize=20)\n",
    "ax.set_xlabel('Perceived Weight', fontsize=16)\n",
    "ax.set_ylabel('Actual Weight', fontsize=16)\n",
    "ax.scatter(food['self_perception_weight'],food['weight'])\n",
    "\n",
    "# we fit to a linear regression model\n",
    "regr = linear_model.LinearRegression()\n",
    "regr.fit(food['self_perception_weight'].values.reshape(-1,1),food['weight'])\n",
    "m = regr.coef_\n",
    "b = regr.intercept_\n",
    "\n",
    "# and then plot a line of best fit\n",
    "plt.plot(food['self_perception_weight'],food['self_perception_weight']*m+b,'-')\n",
    "plt.show()"
   ]
  },
  {
   "cell_type": "markdown",
   "metadata": {},
   "source": [
    "We have fit the data to a linear regression model and plotted a line of best fit. We acknowledge that there are relatively few data points for the 'slim' and 'overweight' responses. However, we observe a promising trend that we will further explore in the next section. For now, we explore a few other variables and examine their correlation to weight perception."
   ]
  },
  {
   "cell_type": "markdown",
   "metadata": {},
   "source": [
    "### More Exploration and Visualization "
   ]
  },
  {
   "cell_type": "markdown",
   "metadata": {},
   "source": [
    "We will take a look at how the frequency of cooking affects weight perception. Respondents were asked how often they cooked a week and provided the choices of 1 - Every day, 2 - A couple of times a week, 3 - Whenever I can, but that is not very often, 4 - I only help a little during holidays, 5 - Never, I really do not know my way around a kitchen. We create a violin plot."
   ]
  },
  {
   "cell_type": "code",
   "execution_count": 44,
   "metadata": {
    "scrolled": true
   },
   "outputs": [
    {
     "data": {
      "image/png": "[encoded data removed]",
      "text/plain": [
       "<matplotlib.figure.Figure at 0x7fb731b8f550>"
      ]
     },
     "metadata": {},
     "output_type": "display_data"
    },
    {
     "data": {
      "text/plain": [
       "<ggplot: (8776549366974)>"
      ]
     },
     "execution_count": 44,
     "metadata": {},
     "output_type": "execute_result"
    }
   ],
   "source": [
    "ggplot(aes(x='cook', y='self_perception_weight'), data=food) +\\\n",
    "    geom_violin() +\\\n",
    "    labs(title=\"Perception of Weight Based on Frequency of Cooking\",\n",
    "         x = \"Frequency of Cooking\",\n",
    "         y = \"Perception of Weight\")"
   ]
  },
  {
   "cell_type": "markdown",
   "metadata": {},
   "source": [
    "In general, it seems that there is a linear trend, where the less they cooked, they were more likely to perceive themselves as overweight."
   ]
  },
  {
   "cell_type": "markdown",
   "metadata": {},
   "source": [
    "Next, we will take a look at how exercise affects weight perception. Respondents were asked how often they exercise a week and provided the choices of (1 - Everyday, 2 - Twice or three times per week, 3 - Once a week, 4 - Sometimes, 5 – Never). We create a violin plot."
   ]
  },
  {
   "cell_type": "code",
   "execution_count": 45,
   "metadata": {},
   "outputs": [
    {
     "data": {
      "image/png": "[encoded data removed]",
      "text/plain": [
       "<matplotlib.figure.Figure at 0x7fb731986da0>"
      ]
     },
     "metadata": {},
     "output_type": "display_data"
    },
    {
     "data": {
      "text/plain": [
       "<ggplot: (-9223363260305453929)>"
      ]
     },
     "execution_count": 45,
     "metadata": {},
     "output_type": "execute_result"
    }
   ],
   "source": [
    "ggplot(aes(x='exercise', y='self_perception_weight'), data=food) +\\\n",
    "    geom_violin() +\\\n",
    "    labs(title=\"Perception of Weight Based on Exercise\",\n",
    "         x = \"Exercise\",\n",
    "         y = \"Perception of Weight\")"
   ]
  },
  {
   "cell_type": "markdown",
   "metadata": {},
   "source": [
    "In general, it seems that there is a linear trend, where the less they exercised per week, the more likely they were to perceive themselves as overweight."
   ]
  },
  {
   "cell_type": "markdown",
   "metadata": {},
   "source": [
    "Next, we will take a look at how the frequency of checking nutritional values affects weight perception. Respondents were asked how often they check nutritional values and provided the choices of 1 - never\n",
    "2 - on certain products only, 3 - very rarely, 4 - on most products, 5 - on everything. We create a violin plot."
   ]
  },
  {
   "cell_type": "code",
   "execution_count": 46,
   "metadata": {},
   "outputs": [
    {
     "data": {
      "image/png": "[encoded data removed]",
      "text/plain": [
       "<matplotlib.figure.Figure at 0x7fb7318e0908>"
      ]
     },
     "metadata": {},
     "output_type": "display_data"
    },
    {
     "data": {
      "text/plain": [
       "<ggplot: (-9223363260305579916)>"
      ]
     },
     "execution_count": 46,
     "metadata": {},
     "output_type": "execute_result"
    }
   ],
   "source": [
    "ggplot(aes(x='nutritional_check', y='self_perception_weight'), data=food) +\\\n",
    "    geom_violin() +\\\n",
    "    labs(title=\"Perception of Weight Based on Nutritional Checking Frequency\",\n",
    "         x = \"Nutritional Checking Frequency\",\n",
    "         y = \"Perception of Weight\")"
   ]
  },
  {
   "cell_type": "markdown",
   "metadata": {},
   "source": [
    "In general, it seems that there is a linear trend, where the less they checked nutrition, the more likely they were likely to perceive themselves as overweight."
   ]
  },
  {
   "cell_type": "markdown",
   "metadata": {},
   "source": [
    "Next, we will take a look at how the likeliness to eat veggies daily affects weight perception. \n",
    "Respondents were asked how likely they were to eat veggies in a day provided the choices of 1 - very unlikely, 2 - unlikely, 3 - neutral, 4- likely, 5 - very likely. We create a violin plot."
   ]
  },
  {
   "cell_type": "code",
   "execution_count": 47,
   "metadata": {},
   "outputs": [
    {
     "data": {
      "image/png": "[encoded data removed]",
      "text/plain": [
       "<matplotlib.figure.Figure at 0x7fb7319104a8>"
      ]
     },
     "metadata": {},
     "output_type": "display_data"
    },
    {
     "data": {
      "text/plain": [
       "<ggplot: (-9223363260305142766)>"
      ]
     },
     "execution_count": 47,
     "metadata": {},
     "output_type": "execute_result"
    }
   ],
   "source": [
    "ggplot(aes(x='veggies_day', y='self_perception_weight'), data=food) +\\\n",
    "    geom_violin() +\\\n",
    "    labs(title=\"Perception of Veggies Based on Likeliness to Eat Veggies Daily\",\n",
    "         x = \"Likeliness to Eat Veggies Daily\",\n",
    "         y = \"Perception of Weight\")"
   ]
  },
  {
   "cell_type": "markdown",
   "metadata": {},
   "source": [
    "In general, it seems that there is a linear trend, where the less likely they were to eat veggies in a day, the more likely they were to perceive themselves as overweight."
   ]
  },
  {
   "cell_type": "markdown",
   "metadata": {},
   "source": [
    "### Machine Learning / Fitting a Model"
   ]
  },
  {
   "cell_type": "markdown",
   "metadata": {},
   "source": [
    "We could continue on with these visualizations, but ultimately, our goal is to take the data we have, and see if we can use our data to accurately predict what one's perception of their weight is. In order to do this, we will experiment with several models from sci-kit learn. The models will we will try are: Decision Trees, Random Forests, Support Vector Machines, K-Nearest Neighbors, and Logistic Regression.\n",
    "\n",
    "Before we get started, we need to do one last preparation step to our data. Much of our data is in numerical form, when the responses they represent are truly categoric. For example, \"Gender\" responses are 1 or 2 for Male or Female, but why should one get a higher number over the other? To remedy this, we will use one-hot encoding, which will take the current data and convert it into essentially cateogircal classes, using binary features to represent the options in each class. For example, a variable such as Gender, which has responses of 1 and 2 will be split into 2 columns: Gender_1 and Gender_2, which will be populated with 0 or 1, depending on what the response was. The benefit of one-hot encoding is that it removes any inherent ordering of values, which will make classification easier. Read more about one-hot encoding [here](https://hackernoon.com/what-is-one-hot-encoding-why-and-when-do-you-have-to-use-it-e3c6186d008f).\n",
    "\n",
    "Below, we will apply one-hot encoding on all features except weight and self_perception_weight (the class we aim to predict)."
   ]
  },
  {
   "cell_type": "markdown",
   "metadata": {},
   "source": [
    "#### One Hot Encoding"
   ]
  },
  {
   "cell_type": "code",
   "execution_count": 48,
   "metadata": {},
   "outputs": [
    {
     "data": {
      "text/html": [
       "<div>\n",
       "<table border=\"1\" class=\"dataframe\">\n",
       "  <thead>\n",
       "    <tr style=\"text-align: right;\">\n",
       "      <th></th>\n",
       "      <th>self_perception_weight</th>\n",
       "      <th>weight</th>\n",
       "      <th>Gender_1</th>\n",
       "      <th>Gender_2</th>\n",
       "      <th>calories_day_2.0</th>\n",
       "      <th>calories_day_3.0</th>\n",
       "      <th>calories_day_4.0</th>\n",
       "      <th>comfort_food_reasons_coded_1.0</th>\n",
       "      <th>comfort_food_reasons_coded_2.0</th>\n",
       "      <th>comfort_food_reasons_coded_3.0</th>\n",
       "      <th>...</th>\n",
       "      <th>pay_meal_out_6</th>\n",
       "      <th>sports_1.0</th>\n",
       "      <th>sports_2.0</th>\n",
       "      <th>veggies_day_1</th>\n",
       "      <th>veggies_day_2</th>\n",
       "      <th>veggies_day_3</th>\n",
       "      <th>veggies_day_4</th>\n",
       "      <th>veggies_day_5</th>\n",
       "      <th>vitamins_1</th>\n",
       "      <th>vitamins_2</th>\n",
       "    </tr>\n",
       "  </thead>\n",
       "  <tbody>\n",
       "    <tr>\n",
       "      <th>1</th>\n",
       "      <td>3.0</td>\n",
       "      <td>155</td>\n",
       "      <td>1</td>\n",
       "      <td>0</td>\n",
       "      <td>0</td>\n",
       "      <td>1</td>\n",
       "      <td>0</td>\n",
       "      <td>1</td>\n",
       "      <td>0</td>\n",
       "      <td>0</td>\n",
       "      <td>...</td>\n",
       "      <td>0</td>\n",
       "      <td>1</td>\n",
       "      <td>0</td>\n",
       "      <td>0</td>\n",
       "      <td>0</td>\n",
       "      <td>0</td>\n",
       "      <td>1</td>\n",
       "      <td>0</td>\n",
       "      <td>0</td>\n",
       "      <td>1</td>\n",
       "    </tr>\n",
       "    <tr>\n",
       "      <th>3</th>\n",
       "      <td>5.0</td>\n",
       "      <td>240</td>\n",
       "      <td>1</td>\n",
       "      <td>0</td>\n",
       "      <td>0</td>\n",
       "      <td>1</td>\n",
       "      <td>0</td>\n",
       "      <td>0</td>\n",
       "      <td>1</td>\n",
       "      <td>0</td>\n",
       "      <td>...</td>\n",
       "      <td>0</td>\n",
       "      <td>0</td>\n",
       "      <td>1</td>\n",
       "      <td>0</td>\n",
       "      <td>0</td>\n",
       "      <td>1</td>\n",
       "      <td>0</td>\n",
       "      <td>0</td>\n",
       "      <td>1</td>\n",
       "      <td>0</td>\n",
       "    </tr>\n",
       "    <tr>\n",
       "      <th>4</th>\n",
       "      <td>4.0</td>\n",
       "      <td>190</td>\n",
       "      <td>1</td>\n",
       "      <td>0</td>\n",
       "      <td>1</td>\n",
       "      <td>0</td>\n",
       "      <td>0</td>\n",
       "      <td>1</td>\n",
       "      <td>0</td>\n",
       "      <td>0</td>\n",
       "      <td>...</td>\n",
       "      <td>0</td>\n",
       "      <td>1</td>\n",
       "      <td>0</td>\n",
       "      <td>0</td>\n",
       "      <td>0</td>\n",
       "      <td>0</td>\n",
       "      <td>1</td>\n",
       "      <td>0</td>\n",
       "      <td>0</td>\n",
       "      <td>1</td>\n",
       "    </tr>\n",
       "    <tr>\n",
       "      <th>5</th>\n",
       "      <td>5.0</td>\n",
       "      <td>190</td>\n",
       "      <td>1</td>\n",
       "      <td>0</td>\n",
       "      <td>0</td>\n",
       "      <td>1</td>\n",
       "      <td>0</td>\n",
       "      <td>0</td>\n",
       "      <td>0</td>\n",
       "      <td>0</td>\n",
       "      <td>...</td>\n",
       "      <td>0</td>\n",
       "      <td>0</td>\n",
       "      <td>1</td>\n",
       "      <td>1</td>\n",
       "      <td>0</td>\n",
       "      <td>0</td>\n",
       "      <td>0</td>\n",
       "      <td>0</td>\n",
       "      <td>0</td>\n",
       "      <td>1</td>\n",
       "    </tr>\n",
       "    <tr>\n",
       "      <th>6</th>\n",
       "      <td>4.0</td>\n",
       "      <td>180</td>\n",
       "      <td>0</td>\n",
       "      <td>1</td>\n",
       "      <td>0</td>\n",
       "      <td>1</td>\n",
       "      <td>0</td>\n",
       "      <td>1</td>\n",
       "      <td>0</td>\n",
       "      <td>0</td>\n",
       "      <td>...</td>\n",
       "      <td>0</td>\n",
       "      <td>1</td>\n",
       "      <td>0</td>\n",
       "      <td>0</td>\n",
       "      <td>0</td>\n",
       "      <td>0</td>\n",
       "      <td>1</td>\n",
       "      <td>0</td>\n",
       "      <td>1</td>\n",
       "      <td>0</td>\n",
       "    </tr>\n",
       "  </tbody>\n",
       "</table>\n",
       "<p>5 rows × 108 columns</p>\n",
       "</div>"
      ],
      "text/plain": [
       "   self_perception_weight  weight  Gender_1  Gender_2  calories_day_2.0  \\\n",
       "1                     3.0     155         1         0                 0   \n",
       "3                     5.0     240         1         0                 0   \n",
       "4                     4.0     190         1         0                 1   \n",
       "5                     5.0     190         1         0                 0   \n",
       "6                     4.0     180         0         1                 0   \n",
       "\n",
       "   calories_day_3.0  calories_day_4.0  comfort_food_reasons_coded_1.0  \\\n",
       "1                 1                 0                               1   \n",
       "3                 1                 0                               0   \n",
       "4                 0                 0                               1   \n",
       "5                 1                 0                               0   \n",
       "6                 1                 0                               1   \n",
       "\n",
       "   comfort_food_reasons_coded_2.0  comfort_food_reasons_coded_3.0     ...      \\\n",
       "1                               0                               0     ...       \n",
       "3                               1                               0     ...       \n",
       "4                               0                               0     ...       \n",
       "5                               0                               0     ...       \n",
       "6                               0                               0     ...       \n",
       "\n",
       "   pay_meal_out_6  sports_1.0  sports_2.0  veggies_day_1  veggies_day_2  \\\n",
       "1               0           1           0              0              0   \n",
       "3               0           0           1              0              0   \n",
       "4               0           1           0              0              0   \n",
       "5               0           0           1              1              0   \n",
       "6               0           1           0              0              0   \n",
       "\n",
       "   veggies_day_3  veggies_day_4  veggies_day_5  vitamins_1  vitamins_2  \n",
       "1              0              1              0           0           1  \n",
       "3              1              0              0           1           0  \n",
       "4              0              1              0           0           1  \n",
       "5              0              0              0           0           1  \n",
       "6              0              1              0           1           0  \n",
       "\n",
       "[5 rows x 108 columns]"
      ]
     },
     "execution_count": 48,
     "metadata": {},
     "output_type": "execute_result"
    }
   ],
   "source": [
    "# apply one-hot encoding to the dataset\n",
    "food = pandas.get_dummies(food, columns = list(food.columns.values)[2:])\n",
    "food.head()"
   ]
  },
  {
   "cell_type": "markdown",
   "metadata": {},
   "source": [
    "#### Train Test Split"
   ]
  },
  {
   "cell_type": "markdown",
   "metadata": {},
   "source": [
    "We will be asssesing several classifiers based on their ability to predict the self_perception_weight class, given the remaining features. Classifiers work by taking in training data and then applying some algorithm to \"learn\" how to decide classes. Sci-kit learn also comes with regression models, which predict continuous values.\n",
    "\n",
    "In any case, once we train a classifier with data, we will need to assess the accuracy of the classifier. For this reason, we need to separate the data into a training portion and a test portion. Sci-kit learn provides a train_test_split method takes our features and classes, and allows us to specify how much data we want to test on (test_size=.25 specifies 25% test data). The random_state variable is simply used to ensure we get the \"same\" random set each time."
   ]
  },
  {
   "cell_type": "code",
   "execution_count": 49,
   "metadata": {
    "collapsed": true
   },
   "outputs": [],
   "source": [
    "# all but the first column are features\n",
    "# the first column is the class we aim to predict\n",
    "X = food[food.columns[1:]]\n",
    "y = food['self_perception_weight']\n",
    "\n",
    "# split the data into training and testing data\n",
    "X_train, X_test, y_train, y_test = train_test_split(X,y,test_size=.25,random_state=3)\n",
    "\n",
    "# this will be used to keep track of our accuracies for each classifier\n",
    "accuracies = {}"
   ]
  },
  {
   "cell_type": "markdown",
   "metadata": {
    "collapsed": true
   },
   "source": [
    "#### Decision Trees"
   ]
  },
  {
   "cell_type": "markdown",
   "metadata": {},
   "source": [
    "Decision trees use select features of the dataset to best separate the data into distinct classes. For example, maybe if we split on gender, maybe we see that males predominantly fall into classes 1 and 3, while females fall into 2, 4, and 5. From there, we might split at each node on another feature. The process is repeated until we form a \"tree\" of splits, with the bottom layer \"leaves\" being classes. Then, when we want to predict a new observation, we can simply traverse the tree, following the decisions at each branch, and the prediction will be the class of whichever leaf we end up at. Decision trees calculate the most important features / best decisions using functions such as entropy or Gini coefficients to determine how homogenous a split is. Sklearn's decision tree classifier allows us to specify several parameters, such as how deep we want to tree to be, how many features to use, how to calculate goodness of split, among others. For more about decision trees, see [this document](https://www-users.cs.umn.edu/~kumar001/dmbook/ch4.pdf) and the [python documentation](http://scikit-learn.org/stable/modules/generated/sklearn.tree.DecisionTreeClassifier.html)."
   ]
  },
  {
   "cell_type": "code",
   "execution_count": 50,
   "metadata": {},
   "outputs": [
    {
     "name": "stdout",
     "output_type": "stream",
     "text": [
      "Accuracy: 47.37%\n"
     ]
    }
   ],
   "source": [
    "# fit to a decision tree classifer\n",
    "dt_clf = tree.DecisionTreeClassifier(max_features = 20)\n",
    "dt_clf.fit(X_train,y_train)\n",
    "\n",
    "# obtain the accuracy with the score method and store into our dictionary\n",
    "acc = round(dt_clf.score(X_test,y_test)*100,2)\n",
    "print(\"Accuracy: \" + str(acc) + \"%\")\n",
    "accuracies[\"Decision Tree\"] = acc"
   ]
  },
  {
   "cell_type": "markdown",
   "metadata": {},
   "source": [
    "What actually happens in the score method is it predicts on the X_test data, and then compares with the y_test true classes."
   ]
  },
  {
   "cell_type": "code",
   "execution_count": 51,
   "metadata": {},
   "outputs": [
    {
     "name": "stdout",
     "output_type": "stream",
     "text": [
      "Predictions: [ 2.  4.  3.  4.  3.  3.  2.  3.  2.  3.  3.  4.  4.  3.  1.  3.  3.  1.\n",
      "  3.]\n",
      "True classes: [ 2.  2.  3.  3.  3.  3.  3.  3.  2.  3.  3.  3.  2.  2.  2.  2.  4.  3.\n",
      "  3.]\n"
     ]
    }
   ],
   "source": [
    "print(\"Predictions: \" + str(dt_clf.predict(X_test)))\n",
    "print(\"True classes: \" + str(numpy.array(y_test)))"
   ]
  },
  {
   "cell_type": "markdown",
   "metadata": {},
   "source": [
    "#### Random Forest"
   ]
  },
  {
   "cell_type": "markdown",
   "metadata": {},
   "source": [
    "Random forest classifiers essentially work by constructing multiple decision trees, each of which produce a prediction, and then the final prediction is produced by a majority vote between each of the trees. We use Sklearn's RandomForestClassifier on our dataset. For more information about random forests see the [following source](http://dataaspirant.com/2017/05/22/random-forest-algorithm-machine-learing/), which discusses the advantages of random forests, pseudocode, applications, and more. As always, the [python documentation](http://scikit-learn.org/stable/modules/generated/sklearn.ensemble.RandomForestClassifier.html) details the methods and examples."
   ]
  },
  {
   "cell_type": "code",
   "execution_count": 52,
   "metadata": {},
   "outputs": [
    {
     "name": "stdout",
     "output_type": "stream",
     "text": [
      "Accuracy: 57.89%\n"
     ]
    }
   ],
   "source": [
    "rf_clf = RandomForestClassifier(max_features=20)\n",
    "rf_clf.fit(X_train,y_train)\n",
    "\n",
    "acc = round(rf_clf.score(X_test,y_test)*100,2)\n",
    "print(\"Accuracy: \" + str(acc) + \"%\")\n",
    "accuracies[\"Random Forest\"] = acc"
   ]
  },
  {
   "cell_type": "markdown",
   "metadata": {
    "collapsed": true
   },
   "source": [
    "#### Support Vector Machines"
   ]
  },
  {
   "cell_type": "markdown",
   "metadata": {},
   "source": [
    "Support vector machines (SVM) use a supervised learning algorithm for the purposes of classification and regression. They are based on the concept of support vectors, which are points closest to a hyperplane that can be used to separate data points into two classes. SVMs are especially useful on smaller, cleaner datasets, but is less effective in noisier or large datasets, due to time it takes to train. We use Sklearn's SVC (support vector classifier) below. For more information about support vector machines, see the [following source](https://www.kdnuggets.com/2016/07/support-vector-machines-simple-explanation.html) and the [python documentation](http://scikit-learn.org/stable/modules/generated/sklearn.svm.SVC.html)."
   ]
  },
  {
   "cell_type": "code",
   "execution_count": 53,
   "metadata": {},
   "outputs": [
    {
     "name": "stdout",
     "output_type": "stream",
     "text": [
      "Accuracy: 52.63%\n"
     ]
    }
   ],
   "source": [
    "svm_clf = svm.SVC()\n",
    "svm_clf.fit(X_train,y_train)\n",
    "\n",
    "acc = round(svm_clf.score(X_test,y_test)*100,2)\n",
    "print(\"Accuracy: \" + str(acc) + \"%\")\n",
    "accuracies[\"Support Vector Machine\"] = acc"
   ]
  },
  {
   "cell_type": "markdown",
   "metadata": {
    "collapsed": true
   },
   "source": [
    "#### K-Nearest Neighbors"
   ]
  },
  {
   "cell_type": "markdown",
   "metadata": {},
   "source": [
    "K-Nearest neighbors, for classification, is an algorithm that uses the majority vote of the nearest k points in terms of distance. In regression, the prediction is based on the average value of the nearest k points. For more information about how K-Nearest Neighbors works, see the [following source](https://www.analyticsvidhya.com/blog/2014/10/introduction-k-neighbours-algorithm-clustering/) and the [python documentation](http://scikit-learn.org/stable/modules/generated/sklearn.neighbors.KNeighborsClassifier.html) for the KNeighborsClassifier we use below."
   ]
  },
  {
   "cell_type": "code",
   "execution_count": 54,
   "metadata": {},
   "outputs": [
    {
     "name": "stdout",
     "output_type": "stream",
     "text": [
      "Accuracy: 63.16%\n"
     ]
    }
   ],
   "source": [
    "knn_clf = KNeighborsClassifier(n_neighbors=20,algorithm='brute')\n",
    "knn_clf.fit(X_train,y_train)\n",
    "\n",
    "acc = round(knn_clf.score(X_test,y_test)*100,2)\n",
    "print(\"Accuracy: \" + str(acc) + \"%\")\n",
    "accuracies[\"K-Nearest Neighbors\"] = acc"
   ]
  },
  {
   "cell_type": "markdown",
   "metadata": {},
   "source": [
    "#### Logistic Regression"
   ]
  },
  {
   "cell_type": "markdown",
   "metadata": {},
   "source": [
    "Earlier, we learned about linear regression, which is helpful for predicting a value. It takes on the form of y = mx +b.\n",
    "\n",
    "However, when it comes to predicting a class, logistic regression is more suitable. It takes on the form of $\\frac{e^x}{1+e^x}$.\n",
    "For more information on logistic regression, see the [following source](http://www.dummies.com/programming/big-data/data-science/using-logistic-regression-in-python-for-data-science/) and the [python documentation](http://scikit-learn.org/stable/modules/generated/sklearn.linear_model.LogisticRegression.html) for LogisticRegression we use below."
   ]
  },
  {
   "cell_type": "code",
   "execution_count": 55,
   "metadata": {},
   "outputs": [
    {
     "name": "stdout",
     "output_type": "stream",
     "text": [
      "Accuracy: 57.89%\n"
     ]
    }
   ],
   "source": [
    "lr_clf = LogisticRegression()\n",
    "lr_clf.fit(X_train,y_train)\n",
    "\n",
    "acc = round(lr_clf.score(X_test,y_test)*100,2)\n",
    "print(\"Accuracy: \" + str(acc) + \"%\")\n",
    "accuracies[\"Logistic Regression\"] = acc"
   ]
  },
  {
   "cell_type": "markdown",
   "metadata": {},
   "source": [
    "#### The \"Best\" Model?"
   ]
  },
  {
   "cell_type": "markdown",
   "metadata": {},
   "source": [
    "Now that we have fit the data to each of these models, let's see how they did. Below, we prepare a summary table with accuracies for each of the models."
   ]
  },
  {
   "cell_type": "code",
   "execution_count": 56,
   "metadata": {},
   "outputs": [
    {
     "data": {
      "text/html": [
       "<div>\n",
       "<table border=\"1\" class=\"dataframe\">\n",
       "  <thead>\n",
       "    <tr style=\"text-align: right;\">\n",
       "      <th></th>\n",
       "      <th>Classifier</th>\n",
       "      <th>Accuracy</th>\n",
       "    </tr>\n",
       "  </thead>\n",
       "  <tbody>\n",
       "    <tr>\n",
       "      <th>3</th>\n",
       "      <td>K-Nearest Neighbors</td>\n",
       "      <td>63.16</td>\n",
       "    </tr>\n",
       "    <tr>\n",
       "      <th>1</th>\n",
       "      <td>Random Forest</td>\n",
       "      <td>57.89</td>\n",
       "    </tr>\n",
       "    <tr>\n",
       "      <th>4</th>\n",
       "      <td>Logistic Regression</td>\n",
       "      <td>57.89</td>\n",
       "    </tr>\n",
       "    <tr>\n",
       "      <th>2</th>\n",
       "      <td>Support Vector Machine</td>\n",
       "      <td>52.63</td>\n",
       "    </tr>\n",
       "    <tr>\n",
       "      <th>0</th>\n",
       "      <td>Decision Tree</td>\n",
       "      <td>47.37</td>\n",
       "    </tr>\n",
       "  </tbody>\n",
       "</table>\n",
       "</div>"
      ],
      "text/plain": [
       "               Classifier  Accuracy\n",
       "3     K-Nearest Neighbors     63.16\n",
       "1           Random Forest     57.89\n",
       "4     Logistic Regression     57.89\n",
       "2  Support Vector Machine     52.63\n",
       "0           Decision Tree     47.37"
      ]
     },
     "execution_count": 56,
     "metadata": {},
     "output_type": "execute_result"
    }
   ],
   "source": [
    "# create a new DataFrame for the rankings\n",
    "# we sort by Accuracy descending, so we see which have the highest accuracies\n",
    "model_rankings = pandas.DataFrame(columns=['Classifier','Accuracy'])\n",
    "for key in accuracies:\n",
    "    model_rankings = model_rankings.append({'Classifier': key, 'Accuracy': accuracies.get(key)},ignore_index=True)\n",
    "model_rankings.sort_values(by='Accuracy', ascending=False)"
   ]
  },
  {
   "cell_type": "markdown",
   "metadata": {},
   "source": [
    "K-Fold Cross Validation"
   ]
  },
  {
   "cell_type": "markdown",
   "metadata": {},
   "source": [
    "One shortcoming of our analysis you may have noticed is that we created models using only one sample of training data, and tested on one sample of test data. What if we just got lucky/unlucky, training and testing on just the right observations to get good/bad accuracies? For this reason, a standard procedure is to use something called K-fold cross validation, in which we split the data into K portions. For each of the K portions, we will use that portion as the test data, and the remaining K-1 portions as training data. Afterwards, we can combine the accuracy scores of each of the K tests to obtain a clearer idea of how strong our model is.\n",
    "\n",
    "We attempt to do so below using sklearn's cross_val_score, which will perform the cross validation and return a list of scores. We use a 5-fold split, but you will observe a warning."
   ]
  },
  {
   "cell_type": "code",
   "execution_count": 57,
   "metadata": {},
   "outputs": [
    {
     "name": "stdout",
     "output_type": "stream",
     "text": [
      "[ 0.58823529  0.47058824  0.6         0.41666667  0.33333333]\n"
     ]
    },
    {
     "name": "stderr",
     "output_type": "stream",
     "text": [
      "/opt/conda/lib/python3.6/site-packages/sklearn/model_selection/_split.py:581: Warning: The least populated class in y has only 2 members, which is too few. The minimum number of groups for any class cannot be less than n_splits=5.\n",
      "  % (min_groups, self.n_splits)), Warning)\n"
     ]
    }
   ],
   "source": [
    "# attempt to do cross evaluation, which our data is not suited for\n",
    "scores = cross_val_score(lr_clf,X,y,cv=5)\n",
    "print(scores)"
   ]
  },
  {
   "cell_type": "markdown",
   "metadata": {},
   "source": [
    "It appears that we have some classes that do not have enough members in certain classes, for example maybe very few people selected class 5 - Overweight, and thus using K-Fold cross validation may not actually give us a meaningful result. In ideal circumstances, we would seek a larger dataset to perform this on. For more information on cross fold validation, see [here](http://scikit-learn.org/stable/modules/cross_validation.html)."
   ]
  },
  {
   "cell_type": "markdown",
   "metadata": {
    "collapsed": true
   },
   "source": [
    "#### Analysis"
   ]
  },
  {
   "cell_type": "markdown",
   "metadata": {},
   "source": [
    "Based on the our attempts to create a classifier for our data, we see that there is quite some variety in the performance of classifiers, though all are significantly better than random guessing. Since there were 5 possible classes, random guessing would achieve approximately 20% accuracy.\n",
    "\n",
    "We see that a random forest classifier does a decent job at predicting. One last part of this tutorial is we will show you how we can asses \"important\" features - features that are good indicators of one's perception of weight. Classifiers often have properties such as feature importances or weights that will indicate these features. Let's see what features have high importances in our random forest classifier."
   ]
  },
  {
   "cell_type": "code",
   "execution_count": 58,
   "metadata": {},
   "outputs": [
    {
     "data": {
      "text/html": [
       "<div>\n",
       "<table border=\"1\" class=\"dataframe\">\n",
       "  <thead>\n",
       "    <tr style=\"text-align: right;\">\n",
       "      <th></th>\n",
       "      <th>Feature</th>\n",
       "      <th>Importance</th>\n",
       "    </tr>\n",
       "  </thead>\n",
       "  <tbody>\n",
       "    <tr>\n",
       "      <th>0</th>\n",
       "      <td>weight</td>\n",
       "      <td>0.115923</td>\n",
       "    </tr>\n",
       "    <tr>\n",
       "      <th>62</th>\n",
       "      <td>healthy_feeling_9</td>\n",
       "      <td>0.065791</td>\n",
       "    </tr>\n",
       "    <tr>\n",
       "      <th>4</th>\n",
       "      <td>calories_day_3.0</td>\n",
       "      <td>0.040915</td>\n",
       "    </tr>\n",
       "    <tr>\n",
       "      <th>102</th>\n",
       "      <td>veggies_day_3</td>\n",
       "      <td>0.027441</td>\n",
       "    </tr>\n",
       "    <tr>\n",
       "      <th>23</th>\n",
       "      <td>eating_changes_coded_2</td>\n",
       "      <td>0.027270</td>\n",
       "    </tr>\n",
       "    <tr>\n",
       "      <th>52</th>\n",
       "      <td>grade_level_3</td>\n",
       "      <td>0.026159</td>\n",
       "    </tr>\n",
       "    <tr>\n",
       "      <th>105</th>\n",
       "      <td>vitamins_1</td>\n",
       "      <td>0.023299</td>\n",
       "    </tr>\n",
       "    <tr>\n",
       "      <th>53</th>\n",
       "      <td>grade_level_4</td>\n",
       "      <td>0.022006</td>\n",
       "    </tr>\n",
       "    <tr>\n",
       "      <th>77</th>\n",
       "      <td>life_rewarding_8.0</td>\n",
       "      <td>0.021251</td>\n",
       "    </tr>\n",
       "    <tr>\n",
       "      <th>78</th>\n",
       "      <td>life_rewarding_9.0</td>\n",
       "      <td>0.021074</td>\n",
       "    </tr>\n",
       "    <tr>\n",
       "      <th>7</th>\n",
       "      <td>comfort_food_reasons_coded_2.0</td>\n",
       "      <td>0.020287</td>\n",
       "    </tr>\n",
       "    <tr>\n",
       "      <th>103</th>\n",
       "      <td>veggies_day_4</td>\n",
       "      <td>0.018484</td>\n",
       "    </tr>\n",
       "    <tr>\n",
       "      <th>89</th>\n",
       "      <td>parents_cook_1</td>\n",
       "      <td>0.017435</td>\n",
       "    </tr>\n",
       "    <tr>\n",
       "      <th>1</th>\n",
       "      <td>Gender_1</td>\n",
       "      <td>0.017259</td>\n",
       "    </tr>\n",
       "    <tr>\n",
       "      <th>50</th>\n",
       "      <td>grade_level_1</td>\n",
       "      <td>0.016233</td>\n",
       "    </tr>\n",
       "    <tr>\n",
       "      <th>39</th>\n",
       "      <td>eating_out_2</td>\n",
       "      <td>0.015828</td>\n",
       "    </tr>\n",
       "    <tr>\n",
       "      <th>43</th>\n",
       "      <td>exercise_1.0</td>\n",
       "      <td>0.015741</td>\n",
       "    </tr>\n",
       "    <tr>\n",
       "      <th>69</th>\n",
       "      <td>income_6.0</td>\n",
       "      <td>0.015163</td>\n",
       "    </tr>\n",
       "    <tr>\n",
       "      <th>24</th>\n",
       "      <td>eating_changes_coded_3</td>\n",
       "      <td>0.014976</td>\n",
       "    </tr>\n",
       "    <tr>\n",
       "      <th>90</th>\n",
       "      <td>parents_cook_2</td>\n",
       "      <td>0.014479</td>\n",
       "    </tr>\n",
       "  </tbody>\n",
       "</table>\n",
       "</div>"
      ],
      "text/plain": [
       "                            Feature  Importance\n",
       "0                            weight    0.115923\n",
       "62                healthy_feeling_9    0.065791\n",
       "4                  calories_day_3.0    0.040915\n",
       "102                   veggies_day_3    0.027441\n",
       "23           eating_changes_coded_2    0.027270\n",
       "52                    grade_level_3    0.026159\n",
       "105                      vitamins_1    0.023299\n",
       "53                    grade_level_4    0.022006\n",
       "77               life_rewarding_8.0    0.021251\n",
       "78               life_rewarding_9.0    0.021074\n",
       "7    comfort_food_reasons_coded_2.0    0.020287\n",
       "103                   veggies_day_4    0.018484\n",
       "89                   parents_cook_1    0.017435\n",
       "1                          Gender_1    0.017259\n",
       "50                    grade_level_1    0.016233\n",
       "39                     eating_out_2    0.015828\n",
       "43                     exercise_1.0    0.015741\n",
       "69                       income_6.0    0.015163\n",
       "24           eating_changes_coded_3    0.014976\n",
       "90                   parents_cook_2    0.014479"
      ]
     },
     "execution_count": 58,
     "metadata": {},
     "output_type": "execute_result"
    }
   ],
   "source": [
    "# creat a new DataFrame to see which features are most important\n",
    "# we sort by Importance descending to see which are most important\n",
    "importances = pandas.DataFrame(columns=['Feature','Importance'])\n",
    "for i in range(len(X.columns)):\n",
    "    importances = importances.append({'Feature': X.columns[i], 'Importance': rf_clf.feature_importances_[i]},ignore_index=True)\n",
    "importances.sort_values(by='Importance',ascending=False).head(20)"
   ]
  },
  {
   "cell_type": "markdown",
   "metadata": {},
   "source": [
    "Because we had used one-hot encoding, we see which values of features were more important, rather than the features themselves. For example, calories_day_3.0 means those who chose 3.0 for calories_day. We see that certain responses are of more importance, but at a glance, we see certain characteristics are high up on the list, which are those we want to collect about people to understand and predict how they may perceive their weight."
   ]
  },
  {
   "cell_type": "markdown",
   "metadata": {},
   "source": [
    "### Concluding Remarks"
   ]
  },
  {
   "cell_type": "markdown",
   "metadata": {},
   "source": [
    "Now we have finished our tutorial working with this data. We learned how to take a dataset, prepare it for analysis, perform exploratory data analysis, fit a classifier to our data, and gain information from our work. Clearly, we see that data science is not so clean all the time. We run into several issues above :). However, there is much more than can be done in regards to this dataset, and others! Now that we have a glimpse of some important features that may determine one's perception of their own weight, there are countless additional studies that can be done to gain further insight.\n",
    "\n",
    "This concludes our tutorial and we hope you've learned something! Thank you!"
   ]
  },
  {
   "cell_type": "markdown",
   "metadata": {},
   "source": [
    "### List of Linked Readings"
   ]
  },
  {
   "cell_type": "markdown",
   "metadata": {
    "collapsed": true
   },
   "source": [
    "NIH Articles on Self-Perception of Weight and Body Image: <br>\n",
    "https://www.ncbi.nlm.nih.gov/pubmed/20142281 <br>\n",
    "https://www.ncbi.nlm.nih.gov/pubmed/12726871 <br>\n",
    "https://www.ncbi.nlm.nih.gov/pmc/articles/PMC3005306/ <br>\n",
    "https://www.ncbi.nlm.nih.gov/pmc/articles/PMC4554432/\n",
    "\n",
    "Data:\n",
    "https://www.kaggle.com/borapajo/food-choices/data\n",
    "\n",
    "Setting Up Python: <br>\n",
    "Anaconda (https://www.anaconda.com/download/) <br>\n",
    "Docker (https://docs.docker.com/engine/installation/)\n",
    "\n",
    "Libraries: <br>\n",
    "pandas (http://pandas.pydata.org/) <br>\n",
    "    pandas.DataFrame.drop(http://pandas.pydata.org/pandas-docs/stable/generated/pandas.DataFrame.drop.html) <br>\n",
    "NumPy (http://www.numpy.org/) <br>\n",
    "Matplotlib (http://matplotlib.org/)<br> \n",
    "ggplot (ggplot.yhathq.com/) <br>\n",
    "Scikit-learn (http://scikit-learn.org/stable/index.html) provides tools for machine learning for classification.\n",
    "\n",
    "NLP: <br>\n",
    "Introduction https://blog.algorithmia.com/introduction-natural-language-processing-nlp/ <br>\n",
    "Practice https://www.datacamp.com/courses/natural-language-processing-fundamentals-in-python \n",
    "\n",
    "Missing Data:<br>\n",
    "http://onbiostatistics.blogspot.com/2012/10/missingness-mechanism-mcar-mar-and-mnar.html <br>\n",
    "https://statisticalhorizons.com/missing-at-random \n",
    "\n",
    "RegEx: <br>\n",
    "Introduction http://www.rexegg.com/regex-quickstart.html#ref <br>\n",
    "Checker https://regex101.com/\n",
    "\n",
    "Linear Regression: <br>\n",
    "http://www.mit.edu/~6.s085/notes/lecture3.pdf\n",
    "\n",
    "One Hot Encoding: <br>\n",
    "https://hackernoon.com/what-is-one-hot-encoding-why-and-when-do-you-have-to-use-it-e3c6186d008f\n",
    "\n",
    "Decision Trees: <br>\n",
    "https://www-users.cs.umn.edu/~kumar001/dmbook/ch4.pdf <br>\n",
    "http://scikit-learn.org/stable/modules/generated/sklearn.tree.DecisionTreeClassifier.html\n",
    "\n",
    "Random Forests: <br>\n",
    "http://dataaspirant.com/2017/05/22/random-forest-algorithm-machine-learing/ <br>\n",
    "http://scikit-learn.org/stable/modules/generated/sklearn.ensemble.RandomForestClassifier.html\n",
    "\n",
    "Support Vector Machines: <br> \n",
    "https://www.kdnuggets.com/2016/07/support-vector-machines-simple-explanation.html <br>\n",
    "http://scikit-learn.org/stable/modules/generated/sklearn.svm.SVC.html \n",
    "\n",
    "K Nearest Neighbors: <br> \n",
    "https://www.analyticsvidhya.com/blog/2014/10/introduction-k-neighbours-algorithm-clustering/ <br>\n",
    "http://scikit-learn.org/stable/modules/generated/sklearn.neighbors.KNeighborsClassifier.html \n",
    "\n",
    "Logistic Regression: <br> \n",
    "http://www.dummies.com/programming/big-data/data-science/using-logistic-regression-in-python-for-data-science/ <br> \n",
    "http://scikit-learn.org/stable/modules/generated/sklearn.linear_model.LogisticRegression.html\n",
    "\n",
    "Cross Validation: <br>\n",
    "http://scikit-learn.org/stable/modules/cross_validation.html  \n"
   ]
  }
 ],
 "metadata": {
  "kernelspec": {
   "display_name": "Python 3",
   "language": "python",
   "name": "python3"
  },
  "language_info": {
   "codemirror_mode": {
    "name": "ipython",
    "version": 3
   },
   "file_extension": ".py",
   "mimetype": "text/x-python",
   "name": "python",
   "nbconvert_exporter": "python",
   "pygments_lexer": "ipython3",
   "version": "3.6.2"
  }
 },
 "nbformat": 4,
 "nbformat_minor": 2
}
